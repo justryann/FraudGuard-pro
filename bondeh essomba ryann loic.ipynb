{
 "cells": [
  {
   "cell_type": "markdown",
   "metadata": {},
   "source": [
    "1. Configuration de l'Environnement et Importation des Bibliothèques\n",
    "- Bibliothèques de Base et Visualisation\n",
    "Cette section importe toutes les bibliothèques nécessaires pour l'analyse de données, la visualisation et le machine learning. L'organisation par catégories facilite la maintenance et la compréhension du code."
   ]
  },
  {
   "cell_type": "code",
   "execution_count": 1,
   "metadata": {},
   "outputs": [],
   "source": [
    "import pandas as pd\n",
    "import numpy as np\n",
    "import matplotlib.pyplot as plt\n",
    "import seaborn as sns\n",
    "from datetime import datetime\n",
    "import plotly.express as px\n",
    "import plotly.graph_objects as go\n",
    "from plotly.subplots import make_subplots\n",
    "\n",
    "# Imports pour le machine learning classique\n",
    "from sklearn.model_selection import train_test_split, cross_val_score, StratifiedKFold\n",
    "from sklearn.preprocessing import StandardScaler, RobustScaler, LabelEncoder\n",
    "from sklearn.metrics import (accuracy_score, precision_score, recall_score, f1_score,\n",
    "                           roc_auc_score, confusion_matrix, classification_report,\n",
    "                           roc_curve, precision_recall_curve)\n",
    "from sklearn.linear_model import LogisticRegression\n",
    "from sklearn.ensemble import RandomForestClassifier, GradientBoostingClassifier\n",
    "from sklearn.neighbors import KNeighborsClassifier\n",
    "\n",
    "\n",
    "# Imports pour le traitement du déséquilibre\n",
    "from imblearn.over_sampling import SMOTE, ADASYN\n",
    "from imblearn.under_sampling import RandomUnderSampler\n",
    "from imblearn.combine import SMOTETomek\n",
    "\n",
    "# Imports pour l'optimisation\n",
    "from sklearn.model_selection import GridSearchCV, RandomizedSearchCV\n",
    "from sklearn.pipeline import Pipeline\n",
    "\n",
    "import pickle\n"
   ]
  },
  {
   "cell_type": "code",
   "execution_count": 2,
   "metadata": {},
   "outputs": [
    {
     "name": "stdout",
     "output_type": "stream",
     "text": [
      "✅ Tous les packages ont été importés avec succès!\n"
     ]
    }
   ],
   "source": [
    "# Configuration des graphiques\n",
    "plt.style.use('seaborn-v0_8')\n",
    "sns.set_palette(\"husl\")\n",
    "pd.set_option('display.max_columns', None)\n",
    "pd.set_option('display.width', None)\n",
    "print(\"✅ Tous les packages ont été importés avec succès!\")\n"
   ]
  },
  {
   "cell_type": "markdown",
   "metadata": {},
   "source": [
    "2. Chargement et Exploration des Données {exploration}"
   ]
  },
  {
   "cell_type": "markdown",
   "metadata": {},
   "source": [
    "2.1 Chargement du Dataset\n",
    "Le chargement des données est la première étape critique qui détermine la suite de l'analyse. Une vérification immédiate permet d'identifier rapidement les problèmes potentiels."
   ]
  },
  {
   "cell_type": "code",
   "execution_count": 3,
   "metadata": {},
   "outputs": [
    {
     "name": "stdout",
     "output_type": "stream",
     "text": [
      " Chargement du dataset...\n",
      " Dataset chargé avec succès!\n"
     ]
    }
   ],
   "source": [
    "# Chargement des données\n",
    "print(\" Chargement du dataset...\")\n",
    "data = pd.read_csv(\"fraude_bancaire_synthetique_final.csv\")\n",
    "print(f\" Dataset chargé avec succès!\")\n"
   ]
  },
  {
   "cell_type": "code",
   "execution_count": 4,
   "metadata": {},
   "outputs": [
    {
     "data": {
      "text/html": [
       "<div>\n",
       "<style scoped>\n",
       "    .dataframe tbody tr th:only-of-type {\n",
       "        vertical-align: middle;\n",
       "    }\n",
       "\n",
       "    .dataframe tbody tr th {\n",
       "        vertical-align: top;\n",
       "    }\n",
       "\n",
       "    .dataframe thead th {\n",
       "        text-align: right;\n",
       "    }\n",
       "</style>\n",
       "<table border=\"1\" class=\"dataframe\">\n",
       "  <thead>\n",
       "    <tr style=\"text-align: right;\">\n",
       "      <th></th>\n",
       "      <th>age</th>\n",
       "      <th>salaire</th>\n",
       "      <th>score_credit</th>\n",
       "      <th>montant_transaction</th>\n",
       "      <th>anciennete_compte</th>\n",
       "      <th>type_carte</th>\n",
       "      <th>region</th>\n",
       "      <th>genre</th>\n",
       "      <th>fraude</th>\n",
       "    </tr>\n",
       "  </thead>\n",
       "  <tbody>\n",
       "    <tr>\n",
       "      <th>0</th>\n",
       "      <td>49.548894</td>\n",
       "      <td>183659.045784</td>\n",
       "      <td>48.228579</td>\n",
       "      <td>9.649456e+06</td>\n",
       "      <td>14.0</td>\n",
       "      <td>Mastercard</td>\n",
       "      <td>Houston</td>\n",
       "      <td>femelle</td>\n",
       "      <td>0.0</td>\n",
       "    </tr>\n",
       "    <tr>\n",
       "      <th>1</th>\n",
       "      <td>44.952665</td>\n",
       "      <td>329732.599158</td>\n",
       "      <td>67.573097</td>\n",
       "      <td>2.500000e+04</td>\n",
       "      <td>NaN</td>\n",
       "      <td>Mastercard</td>\n",
       "      <td>Houston</td>\n",
       "      <td>femelle</td>\n",
       "      <td>0.0</td>\n",
       "    </tr>\n",
       "    <tr>\n",
       "      <th>2</th>\n",
       "      <td>41.659910</td>\n",
       "      <td>75000.000000</td>\n",
       "      <td>77.559487</td>\n",
       "      <td>2.724004e+06</td>\n",
       "      <td>9.0</td>\n",
       "      <td>Visa</td>\n",
       "      <td>Houston</td>\n",
       "      <td>male</td>\n",
       "      <td>0.0</td>\n",
       "    </tr>\n",
       "    <tr>\n",
       "      <th>3</th>\n",
       "      <td>42.377280</td>\n",
       "      <td>75000.000000</td>\n",
       "      <td>54.282220</td>\n",
       "      <td>4.755632e+06</td>\n",
       "      <td>9.0</td>\n",
       "      <td>Mastercard</td>\n",
       "      <td>Orlando</td>\n",
       "      <td>femelle</td>\n",
       "      <td>0.0</td>\n",
       "    </tr>\n",
       "    <tr>\n",
       "      <th>4</th>\n",
       "      <td>48.125023</td>\n",
       "      <td>359999.482942</td>\n",
       "      <td>71.148546</td>\n",
       "      <td>2.500000e+04</td>\n",
       "      <td>8.0</td>\n",
       "      <td>Mastercard</td>\n",
       "      <td>Orlando</td>\n",
       "      <td>femelle</td>\n",
       "      <td>0.0</td>\n",
       "    </tr>\n",
       "    <tr>\n",
       "      <th>...</th>\n",
       "      <td>...</td>\n",
       "      <td>...</td>\n",
       "      <td>...</td>\n",
       "      <td>...</td>\n",
       "      <td>...</td>\n",
       "      <td>...</td>\n",
       "      <td>...</td>\n",
       "      <td>...</td>\n",
       "      <td>...</td>\n",
       "    </tr>\n",
       "    <tr>\n",
       "      <th>1015</th>\n",
       "      <td>48.973513</td>\n",
       "      <td>262962.250877</td>\n",
       "      <td>52.367001</td>\n",
       "      <td>3.428887e+06</td>\n",
       "      <td>8.0</td>\n",
       "      <td>Visa</td>\n",
       "      <td>Orlando</td>\n",
       "      <td>male</td>\n",
       "      <td>0.0</td>\n",
       "    </tr>\n",
       "    <tr>\n",
       "      <th>1016</th>\n",
       "      <td>42.298180</td>\n",
       "      <td>429413.188793</td>\n",
       "      <td>43.633980</td>\n",
       "      <td>3.255258e+06</td>\n",
       "      <td>2.0</td>\n",
       "      <td>NaN</td>\n",
       "      <td>Houston</td>\n",
       "      <td>male</td>\n",
       "      <td>0.0</td>\n",
       "    </tr>\n",
       "    <tr>\n",
       "      <th>1017</th>\n",
       "      <td>42.734031</td>\n",
       "      <td>531726.219363</td>\n",
       "      <td>37.934063</td>\n",
       "      <td>5.980733e+06</td>\n",
       "      <td>11.0</td>\n",
       "      <td>Mastercard</td>\n",
       "      <td>Houston</td>\n",
       "      <td>femelle</td>\n",
       "      <td>0.0</td>\n",
       "    </tr>\n",
       "    <tr>\n",
       "      <th>1018</th>\n",
       "      <td>44.454998</td>\n",
       "      <td>232283.191451</td>\n",
       "      <td>12.925355</td>\n",
       "      <td>5.094767e+06</td>\n",
       "      <td>12.0</td>\n",
       "      <td>Mastercard</td>\n",
       "      <td>Orlando</td>\n",
       "      <td>male</td>\n",
       "      <td>0.0</td>\n",
       "    </tr>\n",
       "    <tr>\n",
       "      <th>1019</th>\n",
       "      <td>24.957693</td>\n",
       "      <td>391660.635767</td>\n",
       "      <td>89.375146</td>\n",
       "      <td>4.075352e+06</td>\n",
       "      <td>15.0</td>\n",
       "      <td>Visa</td>\n",
       "      <td>Orlando</td>\n",
       "      <td>femelle</td>\n",
       "      <td>0.0</td>\n",
       "    </tr>\n",
       "  </tbody>\n",
       "</table>\n",
       "<p>1020 rows × 9 columns</p>\n",
       "</div>"
      ],
      "text/plain": [
       "            age        salaire  score_credit  montant_transaction  \\\n",
       "0     49.548894  183659.045784     48.228579         9.649456e+06   \n",
       "1     44.952665  329732.599158     67.573097         2.500000e+04   \n",
       "2     41.659910   75000.000000     77.559487         2.724004e+06   \n",
       "3     42.377280   75000.000000     54.282220         4.755632e+06   \n",
       "4     48.125023  359999.482942     71.148546         2.500000e+04   \n",
       "...         ...            ...           ...                  ...   \n",
       "1015  48.973513  262962.250877     52.367001         3.428887e+06   \n",
       "1016  42.298180  429413.188793     43.633980         3.255258e+06   \n",
       "1017  42.734031  531726.219363     37.934063         5.980733e+06   \n",
       "1018  44.454998  232283.191451     12.925355         5.094767e+06   \n",
       "1019  24.957693  391660.635767     89.375146         4.075352e+06   \n",
       "\n",
       "      anciennete_compte  type_carte   region    genre  fraude  \n",
       "0                  14.0  Mastercard  Houston  femelle     0.0  \n",
       "1                   NaN  Mastercard  Houston  femelle     0.0  \n",
       "2                   9.0        Visa  Houston     male     0.0  \n",
       "3                   9.0  Mastercard  Orlando  femelle     0.0  \n",
       "4                   8.0  Mastercard  Orlando  femelle     0.0  \n",
       "...                 ...         ...      ...      ...     ...  \n",
       "1015                8.0        Visa  Orlando     male     0.0  \n",
       "1016                2.0         NaN  Houston     male     0.0  \n",
       "1017               11.0  Mastercard  Houston  femelle     0.0  \n",
       "1018               12.0  Mastercard  Orlando     male     0.0  \n",
       "1019               15.0        Visa  Orlando  femelle     0.0  \n",
       "\n",
       "[1020 rows x 9 columns]"
      ]
     },
     "execution_count": 4,
     "metadata": {},
     "output_type": "execute_result"
    }
   ],
   "source": [
    "data"
   ]
  },
  {
   "cell_type": "markdown",
   "metadata": {},
   "source": [
    "2.2 Analyse Descriptive Initiale\n",
    "Cette section fournit une vue d'ensemble complète du dataset, essentielle pour comprendre la structure des données avant toute transformation."
   ]
  },
  {
   "cell_type": "code",
   "execution_count": 5,
   "metadata": {},
   "outputs": [
    {
     "name": "stdout",
     "output_type": "stream",
     "text": [
      "\n",
      "📈 Informations générales:\n",
      "<class 'pandas.core.frame.DataFrame'>\n",
      "RangeIndex: 1020 entries, 0 to 1019\n",
      "Data columns (total 9 columns):\n",
      " #   Column               Non-Null Count  Dtype  \n",
      "---  ------               --------------  -----  \n",
      " 0   age                  1003 non-null   float64\n",
      " 1   salaire              1002 non-null   float64\n",
      " 2   score_credit         998 non-null    float64\n",
      " 3   montant_transaction  996 non-null    float64\n",
      " 4   anciennete_compte    999 non-null    float64\n",
      " 5   type_carte           997 non-null    object \n",
      " 6   region               1003 non-null   object \n",
      " 7   genre                997 non-null    object \n",
      " 8   fraude               982 non-null    float64\n",
      "dtypes: float64(6), object(3)\n",
      "memory usage: 71.8+ KB\n"
     ]
    },
    {
     "data": {
      "text/plain": [
       "None"
      ]
     },
     "metadata": {},
     "output_type": "display_data"
    }
   ],
   "source": [
    "print(\"\\n📈 Informations générales:\")\n",
    "display(data.info())"
   ]
  },
  {
   "cell_type": "code",
   "execution_count": 6,
   "metadata": {},
   "outputs": [
    {
     "name": "stdout",
     "output_type": "stream",
     "text": [
      "\n",
      "📊 Statistiques descriptives:\n"
     ]
    },
    {
     "data": {
      "text/html": [
       "<div>\n",
       "<style scoped>\n",
       "    .dataframe tbody tr th:only-of-type {\n",
       "        vertical-align: middle;\n",
       "    }\n",
       "\n",
       "    .dataframe tbody tr th {\n",
       "        vertical-align: top;\n",
       "    }\n",
       "\n",
       "    .dataframe thead th {\n",
       "        text-align: right;\n",
       "    }\n",
       "</style>\n",
       "<table border=\"1\" class=\"dataframe\">\n",
       "  <thead>\n",
       "    <tr style=\"text-align: right;\">\n",
       "      <th></th>\n",
       "      <th>age</th>\n",
       "      <th>salaire</th>\n",
       "      <th>score_credit</th>\n",
       "      <th>montant_transaction</th>\n",
       "      <th>anciennete_compte</th>\n",
       "      <th>fraude</th>\n",
       "    </tr>\n",
       "  </thead>\n",
       "  <tbody>\n",
       "    <tr>\n",
       "      <th>count</th>\n",
       "      <td>1003.000000</td>\n",
       "      <td>1002.000000</td>\n",
       "      <td>998.000000</td>\n",
       "      <td>9.960000e+02</td>\n",
       "      <td>999.000000</td>\n",
       "      <td>982.000000</td>\n",
       "    </tr>\n",
       "    <tr>\n",
       "      <th>mean</th>\n",
       "      <td>40.408051</td>\n",
       "      <td>297164.636768</td>\n",
       "      <td>49.567810</td>\n",
       "      <td>5.088725e+06</td>\n",
       "      <td>9.655656</td>\n",
       "      <td>0.045825</td>\n",
       "    </tr>\n",
       "    <tr>\n",
       "      <th>std</th>\n",
       "      <td>7.805954</td>\n",
       "      <td>136089.166672</td>\n",
       "      <td>19.142124</td>\n",
       "      <td>2.843704e+06</td>\n",
       "      <td>4.815800</td>\n",
       "      <td>0.209212</td>\n",
       "    </tr>\n",
       "    <tr>\n",
       "      <th>min</th>\n",
       "      <td>24.000000</td>\n",
       "      <td>75000.000000</td>\n",
       "      <td>3.000000</td>\n",
       "      <td>2.500000e+04</td>\n",
       "      <td>1.000000</td>\n",
       "      <td>0.000000</td>\n",
       "    </tr>\n",
       "    <tr>\n",
       "      <th>25%</th>\n",
       "      <td>35.205528</td>\n",
       "      <td>195695.682449</td>\n",
       "      <td>36.335605</td>\n",
       "      <td>3.118899e+06</td>\n",
       "      <td>6.000000</td>\n",
       "      <td>0.000000</td>\n",
       "    </tr>\n",
       "    <tr>\n",
       "      <th>50%</th>\n",
       "      <td>40.452085</td>\n",
       "      <td>294562.124263</td>\n",
       "      <td>49.642099</td>\n",
       "      <td>4.982903e+06</td>\n",
       "      <td>10.000000</td>\n",
       "      <td>0.000000</td>\n",
       "    </tr>\n",
       "    <tr>\n",
       "      <th>75%</th>\n",
       "      <td>45.614974</td>\n",
       "      <td>391034.624076</td>\n",
       "      <td>62.795183</td>\n",
       "      <td>6.926266e+06</td>\n",
       "      <td>13.000000</td>\n",
       "      <td>0.000000</td>\n",
       "    </tr>\n",
       "    <tr>\n",
       "      <th>max</th>\n",
       "      <td>60.000000</td>\n",
       "      <td>715256.040844</td>\n",
       "      <td>99.000000</td>\n",
       "      <td>1.513330e+07</td>\n",
       "      <td>25.000000</td>\n",
       "      <td>1.000000</td>\n",
       "    </tr>\n",
       "  </tbody>\n",
       "</table>\n",
       "</div>"
      ],
      "text/plain": [
       "               age        salaire  score_credit  montant_transaction  \\\n",
       "count  1003.000000    1002.000000    998.000000         9.960000e+02   \n",
       "mean     40.408051  297164.636768     49.567810         5.088725e+06   \n",
       "std       7.805954  136089.166672     19.142124         2.843704e+06   \n",
       "min      24.000000   75000.000000      3.000000         2.500000e+04   \n",
       "25%      35.205528  195695.682449     36.335605         3.118899e+06   \n",
       "50%      40.452085  294562.124263     49.642099         4.982903e+06   \n",
       "75%      45.614974  391034.624076     62.795183         6.926266e+06   \n",
       "max      60.000000  715256.040844     99.000000         1.513330e+07   \n",
       "\n",
       "       anciennete_compte      fraude  \n",
       "count         999.000000  982.000000  \n",
       "mean            9.655656    0.045825  \n",
       "std             4.815800    0.209212  \n",
       "min             1.000000    0.000000  \n",
       "25%             6.000000    0.000000  \n",
       "50%            10.000000    0.000000  \n",
       "75%            13.000000    0.000000  \n",
       "max            25.000000    1.000000  "
      ]
     },
     "metadata": {},
     "output_type": "display_data"
    }
   ],
   "source": [
    "print(\"\\n📊 Statistiques descriptives:\")\n",
    "display(data.describe())"
   ]
  },
  {
   "cell_type": "code",
   "execution_count": 7,
   "metadata": {},
   "outputs": [
    {
     "name": "stdout",
     "output_type": "stream",
     "text": [
      "\n",
      "🎯 Distribution de la variable cible:\n",
      "Non-fraude (0): 937 (95.42%)\n",
      "Fraude (1): 45 (4.58%)\n",
      " Ratio de déséquilibre: 20.8:1\n"
     ]
    }
   ],
   "source": [
    "print(\"\\n🎯 Distribution de la variable cible:\")\n",
    "fraude_counts = data['fraude'].value_counts()\n",
    "fraude_pct = data['fraude'].value_counts(normalize=True) * 100\n",
    "\n",
    "print(f\"Non-fraude (0): {fraude_counts[0]:,} ({fraude_pct[0]:.2f}%)\")\n",
    "print(f\"Fraude (1): {fraude_counts[1]:,} ({fraude_pct[1]:.2f}%)\")\n",
    "\n",
    "# Calcul du déséquilibre\n",
    "imbalance_ratio = fraude_counts[0] / fraude_counts[1]\n",
    "print(f\" Ratio de déséquilibre: {imbalance_ratio:.1f}:1\")\n",
    " "
   ]
  },
  {
   "cell_type": "markdown",
   "metadata": {},
   "source": [
    "3. Visualisations Avancées pour l'Analyse Exploratoire"
   ]
  },
  {
   "cell_type": "markdown",
   "metadata": {},
   "source": [
    "3.1 Création de Visualisations Interactives\n",
    "Les visualisations interactives avec Plotly offrent une meilleure compréhension des données et permettent une exploration plus approfondie."
   ]
  },
  {
   "cell_type": "code",
   "execution_count": 8,
   "metadata": {},
   "outputs": [],
   "source": [
    "# Fonction pour créer des visualisations avancées\n",
    "def create_advanced_visualizations(df):\n",
    "    \"\"\"Crée des visualisations avancées pour l'EDA\"\"\"\n",
    "    \n",
    "    # Configuration de la figure principale\n",
    "    fig = make_subplots(\n",
    "        rows=3, cols=2,\n",
    "        subplot_titles=[\n",
    "            'Distribution de la Variable Cible',\n",
    "            'Distribution des Montants par Classe',\n",
    "            'Corrélation des Variables Numériques',\n",
    "            'Distribution par Âge et Fraude',\n",
    "            'Score de Crédit vs Fraude',\n",
    "            'Ancienneté Compte vs Fraude'\n",
    "        ],\n",
    "        specs=[[{\"type\": \"pie\"}, {\"type\": \"box\"}],\n",
    "               [{\"type\": \"heatmap\", \"colspan\": 2}, None],\n",
    "               [{\"type\": \"histogram\"}, {\"type\": \"violin\"}]]\n",
    "    )\n",
    "    \n",
    "    # 1. Distribution de la variable cible (Pie chart)\n",
    "    fraude_counts = df['fraude'].value_counts()\n",
    "    fig.add_trace(\n",
    "        go.Pie(labels=['Non-Fraude', 'Fraude'], \n",
    "               values=[fraude_counts[0], fraude_counts[1]],\n",
    "               hole=0.4,\n",
    "               marker_colors=['#2E8B57', '#DC143C']),\n",
    "        row=1, col=1\n",
    "    )\n",
    "    \n",
    "    # 2. Box plot des montants par classe\n",
    "    for i, classe in enumerate([0, 1]):\n",
    "        data_classe = df[df['fraude'] == classe]['montant_transaction']\n",
    "        fig.add_trace(\n",
    "            go.Box(y=data_classe, \n",
    "                   name=f'Classe {classe}',\n",
    "                   marker_color='#2E8B57' if classe == 0 else '#DC143C'),\n",
    "            row=1, col=2\n",
    "        )\n",
    "    \n",
    "    # 4. Distribution par âge\n",
    "    fig.add_trace(\n",
    "        go.Histogram(x=df[df['fraude']==0]['age'], \n",
    "                     name='Non-Fraude', \n",
    "                     opacity=0.7,\n",
    "                     marker_color='#2E8B57'),\n",
    "        row=3, col=1\n",
    "    )\n",
    "    fig.add_trace(\n",
    "        go.Histogram(x=df[df['fraude']==1]['age'], \n",
    "                     name='Fraude', \n",
    "                     opacity=0.7,\n",
    "                     marker_color='#DC143C'),\n",
    "        row=3, col=1\n",
    "    )\n",
    "    \n",
    "    # 5. Violin plot score crédit\n",
    "    for i, classe in enumerate([0, 1]):\n",
    "        data_classe = df[df['fraude'] == classe]['score_credit']\n",
    "        fig.add_trace(\n",
    "            go.Violin(y=data_classe, \n",
    "                      name=f'Score Crédit - Classe {classe}',\n",
    "                      side='positive' if classe == 0 else 'negative',\n",
    "                      marker_color='#2E8B57' if classe == 0 else '#DC143C'),\n",
    "            row=3, col=2\n",
    "        )\n",
    "    \n",
    "    fig.update_layout(height=1200, showlegend=True, \n",
    "                      title_text=\"📊 Analyse Exploratoire Complète - Détection de Fraude\")\n",
    "    fig.show()\n"
   ]
  },
  {
   "cell_type": "code",
   "execution_count": 9,
   "metadata": {},
   "outputs": [
    {
     "name": "stdout",
     "output_type": "stream",
     "text": [
      "🎨 Génération des visualisations avancées...\n"
     ]
    },
    {
     "data": {
      "application/vnd.plotly.v1+json": {
       "config": {
        "plotlyServerURL": "https://plot.ly"
       },
       "data": [
        {
         "domain": {
          "x": [
           0,
           0.45
          ],
          "y": [
           0.7777777777777778,
           1
          ]
         },
         "hole": 0.4,
         "labels": [
          "Non-Fraude",
          "Fraude"
         ],
         "marker": {
          "colors": [
           "#2E8B57",
           "#DC143C"
          ]
         },
         "type": "pie",
         "values": [
          937,
          45
         ]
        },
        {
         "marker": {
          "color": "#2E8B57"
         },
         "name": "Classe 0",
         "type": "box",
         "xaxis": "x",
         "y": {
          "bdata": "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",
          "dtype": "f8"
         },
         "yaxis": "y"
        },
        {
         "marker": {
          "color": "#DC143C"
         },
         "name": "Classe 1",
         "type": "box",
         "xaxis": "x",
         "y": {
          "bdata": "X36UJNf+ZUE5ikeuXnpUQSqRTH+fLGJBgirNBGV3XkHcfHSEvChlQV9YUWvCVFJBbjL1IV1bX0G03fU5c5NTQcyCX4he5URBxQpHSItyR0FAJTBIX5hZQSeB20cAJkhBoldxlQxgYUHuEIV0o1lZQeUjxrY0KlJBCHh/6GkNWUFRMwY3A4VhQcJ8ZpsbYzBBR3WF69d2U0FrAxL9Z1VYQVPCJXwx9VVBAez5E7epYkHSHjBQmcMwQd2Qqm6SSVRBPAL8fKnkWEGtK5v+LTFQQeBQDrQHT2JBTRUso7OnTkGn50TiEdg+Qb/gt87Y3jNB1EVHwYmeTkGmrPGtH/5TQZ6crqId2VVB3J+CenujWEGM2MbV+AdIQQoYMau1PV5BBRRhVnvNX0E4oKTVfYU4QbSwJwjq0FRB984u1PjqVUE++TnGoiVRQWpoXdmXRldBOz7qFFajSEH476KXqzlOQUVKaxjO61FB",
          "dtype": "f8"
         },
         "yaxis": "y"
        },
        {
         "marker": {
          "color": "#2E8B57"
         },
         "name": "Non-Fraude",
         "opacity": 0.7,
         "type": "histogram",
         "x": {
          "bdata": "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",
          "dtype": "f8"
         },
         "xaxis": "x3",
         "yaxis": "y3"
        },
        {
         "marker": {
          "color": "#DC143C"
         },
         "name": "Fraude",
         "opacity": 0.7,
         "type": "histogram",
         "x": {
          "bdata": "u9WlALKdQ0Bggkro2gpGQEl2YK7330RAAAAAAAAAOED9OkDbrYpEQJ5jqKny50ZAs2+vjLBzSkCRMC3M97tFQA9jyMxuqD5AsGbsXJRVPECFkqEpDVRFQKOSCk6QKUZAuFcKzchfRkD/3aWXWbY/QFJZ5WsinEJA8BWsI26WRkCZEP1JCMdCQAAAAAAAADhA9AlH1ylGSkAl70oak4dHQAr4hW5AB0JAJIB2lGZJSEBZW6ljkoVDQGp2+PylSEZAVVUhNbKOP0AAAAAAAAD4f5GwT1xZB0dAtRk3OLeHOkCCcOoJTAI/QOu8DznJQEFAAAAAAAAA+H/YRBXCcy9HQJE3nMoxEUNAmQVT7zqlRUC2jXaeNcU+QOM5r0unQ0VAXthPnOb1SUCrZm0f4IpIQKaCyHryXklAypiz9rD4SEDohOsUbzBEQE9535nzKUJAhZRx/InIRUAC2/sd3to5QGze0AGBIkZA",
          "dtype": "f8"
         },
         "xaxis": "x3",
         "yaxis": "y3"
        },
        {
         "marker": {
          "color": "#2E8B57"
         },
         "name": "Score Crédit - Classe 0",
         "side": "positive",
         "type": "violin",
         "xaxis": "x4",
         "y": {
          "bdata": "Wha7EEIdSECI+w2freRQQGivNqHOY1NAc1X6xR8kS0AeRADGgclRQGAohMoW90hAjfM7MzO2M0DHAU1s21k3QAAAAAAAwFhAX84NYjTgREBA8zHAsu1UQN2R84Oq7UZAdpyCb40YRUAfcZok69pSQAAAAAAAAPh/dkMuszGdUkCApQF6GT9RQL+Bz0b3BkNAcQDhYVpcTEDmqJCp57tEQIrPnulKBkJADzwIF2nGREB4WEFdLONEQLUkHftPNk5ASnnBLct/SECudtQK72AxQEkUxifcoVBAzieCTSLUSUB8ROtyhatTQISFRZZ/t0VAomh/5T4aTkAAAAAAAAD4fwAAAAAAAPh/9Jk1Pvj/SUBLCGKnI+8/QID6+E0RuzlAWRlGJfpSVUCXyfDOhT9DQOrBtwvmb0lAP1Sywah0UECgmQGDk1EoQBLoMaDbWkpAuJV35yPoREDL3G1UiKFBQF4Q2eQrCUlAMbzhXUGuQ0DTK/94SnlQQDET+vb/wFVAjvivh63OQEBybrTTBIxJQAAAAAAAAPh/IAqEicCcNUCUK6oi8X9BQNhSioaEK1NARIxtVjIEJkDPZGYr4dtPQB3s9bmU7k1AF3gOB54sT0Dl/9iwGz83QEC9g5jKjlVA7vLBYqM+UECMkifpDbpUQM1x71WO31JAAzax20XSSEAKONhsE5lIQLa53RboyURAUKH9jGqQTEDAlyADo0ZQQFnwCbMIQ0lAFr0fljmZQkCKxTHUAlpMQJ26Dz+Koj1A2LavtrVjQ0CM4XuQoI5SQOKJkUVMeTJA3FcsTIYkTEDW1GkE9g1RQEOfzMAyRUhAYpghxj10Q0AAAAAAAAD4fzq+wM+P60dAAAAAAAAA+H9fNk3saCZCQJgnUjfxHEJAW+CRT9A2SEBzPElAwMZPQJ1w5wZnmFNAmptc1C5cOkAELKVRuU5SQJh+teItUkZANlxFK7cmR0C/U+/ZZXMzQFbu0nWMvFJAysuiLsOeS0BRhmz6XupMQAAAAAAAAAhA09ITI+RuO0CwvLixdJ5SQKHFWeE1JktAZZ+knbpDUkCe27AiZz5KQHA+MSFyA1JASYY1S3zOQEAOPAFzwrhTQLyhGKxzG0JAC8goD2xURUA48oOMlKREQPXOjYVj6ztAmN4Syak7QUABSnDo3EdDQJaYYlzDEVBAZHC6IY34Q0BsvSzgNBVRQNgnqEng/UJAryrWhE0xQ0AYbiEavnJSQMrg0dxaNUtA2FNNTm0vPkD+nLIFatxSQEVIN1BhKktA1BIm7J0lSUDC8O0GKf9LQDiMyzqXdDJAh3khIh1nRkCivESZYClOQGmnMeFDCFJA43rgqT7fSUDwfh0GZclKQNwPES1gASlAq9IoNEbpPkAUfWBRH/lKQCjV4eCgnzFA2ty1vHnxT0AgXzx9yh4UQOP+NnLlrVNA4aF+5z8FRkBeSItmn4hHQNF6SZoVuUNAvKUWzJvcR0AAAAAAAAD4f+PiCM8Uz0tAcieu1H4UV0Ae5FrXpB9RQKsTstJRBz5AOgDevLpjT0BNc7ctBahOQIXc/qzmNkRAiL6QLJUsR0As6ukcZXcnQA/4TOEHE1FADOn3cFicNkBd+lyogQRRQKgRbnNhsU5APikjgEAUU0C5kWBLKkhHQDkPd+y9u01AAAAAAAAACEBY2z83bO9BQIh7YpLJ21NAdCild3p4VkDzKMF3sytRQGL/ghzYqjhAEP0+IHVhUUCqaWQ4gGNQQC5bbeTbPlhA67fS9XoMSEC58hy65UZRQEEoLY2op0pAFZOS/z9gOkCKvGIPOq1QQE/vvNnk/jhABwuQsgcSQkB5TsPJpFRNQKZ4QecDf0xAspmpaEgERUDg4QUMO7EwQOA4llgWNAlA5+rvsMTeR0AjGsO/yXRMQAXG7vJw4kpA6NTFxFKyEED/VDSZpepLQAFhhHFfOE5ARMOekQ+GVED1zzxXIVRJQMbY6SgfQ0FAEoBTpi48MUDgUyyzb2koQKY3qlAvKUxA8lbhhymBVECrlFxT0E9UQBhKkjNUgE5AqCN9E5bcTEAjN1/8Vr9NQMgdtO7+XUtAEz1zHKMNQ0B+eC3heqNRQOU+e5nDDVJAnKvgJWjKNUAL/yMdMr9JQNm9/hCZUklA4iEXjsd0SkD5JsIjbHxHQMtUkeKzek1Amx5PoM5+UEAV84CG7RFMQEIQ2+nNLkRAXvcHZS77PED4NoIZjyxLQOPiCM8Uz0tAk6Kv9R8fPkDE6h3ahdNUQDb8wIjnZ1BAUE//EdJ2SkDhsppInsZDQDjj8k4dn01AkJq+Ub7XUUAoeua3RTVRQCqcpwXdNEZAH/0Mnxy9O0AIwCVK/bBCQO/vAt9My0pARtwJeiBbV0AQRKDaSiJCQJbEOvRnlVJAAAAAAAAA+H+wAukk/nU8QHwLfmXyc0tAraZ74YfZSUB9IGNJWTZOQKhlKMEbxkJAOk052HdmT0AiTPingjZHQFbaI1WnHzZA+/dW11hMTEBAYO5WDRhJQNe4uWqA+FNAiI/stnGgIEAF5JuJPsdKQOuG2Iceb0pAdGpIbJ2TUEAY2DvVuRRNQJc19ItAeD9ARUJwf25QT0A+ox25rn1JQK9lACwDhzpArXAKrcVHTkBN5D62K+hSQMyRFBLuUFFA+pPXTTnENkDabmkLVyhCQPN5wrla7EhAJnFygefxUEA4osmrif5GQAFRq/FJAE5ADQv6W4aFU0DEkTO1uMBHQK2me+GH2UlA78wePCUwSEB8Xwa32oxBQKkEY45aEUFAeK08EbCqM0BJOITjaWpTQHjVCroa0khAeCijdqELOECapdTbV+BIQM3fTV4ciVFAkpGsvq7hTkCgRpXVDyJDQLYnQJwMyFFAR2y+WBYsRUCcS0MUiENTQNRt2OPNrz1ACbSwXBNRLkB+PscFznhRQExr4H9qNERALXqzJQFmSEDur3coFSdRQGLaiizG70pAJALZ5tXuTEAJy16m2z9RQJ6LaJgh7FFArCNMTVEbQkCPFeWrI/5TQB0nmvMG4FFA8EfLKS5fTkAAAAAAAAD4f+Dg2itP2FdA+KYF4IxJQUCIjSqycWUvQFqdvNqZOUlAGU3qW4NwLEDUAH1kTLc3QBDZJbvpqUdAr2BVPGygVEAnB7P8yh9FQGaXWGxsQUdAsF2+dqQkRkA5O1UZcbtJQMe0ZmSjVU1A4Bfx872ST0DysFfsPUFMQKpde0XkR0JAw7bu01BgNUAAAAAAAAAIQGa4YNHvPk5Avlth8Zv5UkAyMEYAX0hGQApN3jgCbVJApGWgUZg4UUDCghRMQ5A/QKT2rk6yD0lAAAAAAAAA+H/50HD3mQdEQMjiQ6ymlkxAItbeHQ7yQ0B46yLz7KZEQAAAAAAAAPh/iGFL9JYRP0AViE1i7CZGQMADwNigikZAKYjRQfsaTEAUDYJmTkxYQBO4Lx19WVVA9Nrc0YSTRkBrgiTLs7NIQF1VcrF+1DtAb8knfVjXSkD9qzbNW4xGQECx5LQxClNAkD/34fX/V0BfBjg/tHxCQAmjmRV7SUZAcyahQ1bfU0DdIlwwfTcoQAfVadf89lFAfPSUWPjoTUARAcgNMGdJQMyalXvwsDpAYsY/vROAM0BSuwzs9ZNQQHG/LekO3k1Am+PpOEZmTkCaOtsGIbNQQJdiha/8ND5AonjOTeVzPkB8up30bz1OQD4jeWrOX0ZAu8bLkKRANECwwfCkVt0kQBK9ZSYbKlFAAAAAAAAA+H9PffLw84U4QMcGdAescVJAwgOSJBYAS0Car4uGFPVSQK/MWhp6yEdAcpKTTWUmOUAAAAAAAAAIQPxr1/cEhzJAysoPHHr9SUDVCfZ7LqM+QI91Uo6EOEhAv+967INHRUBvDKrDqs1KQOhtvFkXKE5ADAkQinx6S0DKPF9Rh7hMQB5uw5llRlJAZXjQPrcTUUArDNm6RPJRQCfr/dC/yERAAAAAAAAACECLYlDYAmZQQLcsj/tr6k5A1vvg/yjwVUB2Qy6zMZ1SQNxybdcUSDpAW93i+DNoOEAAAAAAAMBYQBc78QVxBk1AUcmdXQM4RkDm9q0CmF9KQLyZjslTPlNAyM9mgoJfQkB5kN8CquFLQOoa50dlZURAcojZG8MuR0C1xJQEaqdFQLiHFlSB90ZApdQ5hRnfTEBPa0SnYnBJQGnB+VG4bzpAD9l2McrVR0Bet+LGh+tNQJeHm7KpA0dAoOuLlf7BNEBS2BEUWD5XQA5zRZpqEkdAY07IS0I9QkCcGZqukYJLQAhimNQ4s0RA/kY2KKwNQUDa2wuMVCw1QIiP7LZxoCBAr5w5RqWjSkDUP1nfAFZLQJZiV9Z3/1FAoUWiwrKPOkB8JYIZzlBBQLlB8HKiDDpA6cNZnv+0R0DT8Qe0PSFIQHzeHb0pNFRAWS96FOpIS0D6o/1+allLQH4hDXa6mEVAOvDpnA4vUEAza7VZhqlHQGjMDOjqPCtA5PF++zOIVkDDEdpzaVJDQJG0cMg6aEVA9JtmhXLaU0BHswpFENRQQNhZMkFgd1BA8hVJ4qBwNEAglZZ5FrI7QFgEXboMZVRApk96oC5rUUAy2/aXY/BQQOcCG/MOW0BAlKI+ocYcUUBGAbD30s1RQL7fH8/V/1JADoEp5wDJRECqVtfj1HpHQHI9Bswof0dAMbrY6kbGUEAVRBEj3QZVQAf+erSNsjtAbLS2yATdQEDFDWwd2iBEQITj9Jb/m1RALC89rzVVS0A2ugO+gX87QHZVJD+BvEBA42OZPaCdREAVyKG/3GRBQBXUpTP8NkpAPix4SW43TEBu0it4PIJDQETg7SFUUEZAwCsyFzHpTkADpyCVU4ZQQH75nWDXq0hACMLVv1IVRUAULKUnAWJFQJGlNRGrNTdAA8DHYM6LSUCb2R//bgFJQARlsCeQaUZAMAnlLcJVSkC5KZTxgNknQET8wldtPUtAcC5HuBbyUkDa9NsstqEzQJC5XND04EdAvp+UIcOxT0CsZ0QNHp5UQJIjPWV3oVBAd3EM6enGU0DTjhXt3v5NQLbPtyMLFk1ADQBlVZlCSECcI4zH0/1QQCglksH0sDdA/aqJjOb6Q0AAAAAAAMBYQEreG+EPZ0RAE6TkCETxQUDN/QqUvxZRQDFBVM258lFAswuKIZvYRkDo1BsgqcBFQPv5yKjO21BAWvM8l+/iUUDQonIvg15DQFa72DOU8kxAhBAqCR7zSkDOx9c/1sE+QCRi1oF7WUJAnNE5QESHRUDQNxUG4ItOQGAgUEG0WENAzP1rnV6SSECO8HOdl29HQH5WiyISXFFAOw8rPpLiM0C8FgwDjVpJQH26izz5OD5AMcrSzlXcSkByHG/jQtRKQB/M8OjDPkZAG6mHfjnNQ0A8Gn0OU6VIQIzR836NvExAywxHLkBjRUBfrzYWOTVKQOwicSc0IkBAQo+LAJ8XSUBFY6sTkOFGQJfBXXAlNEdApnhB5wN/TEDMqRRsp01BQAAAAAAAAAhAP0/0Y1wQSEBOxySa/upGQCBbWxC8OTdAUMcIvRveSUCaswCTW6lDQMhNLv2211VA0w/V0CWVVEAo7A0DhftQQKyFj8YsFldA/TdB8T11T0BA8zHAsu1UQBxsx2eKhTFA+9ijmhSsT0CYQE4hKfZUQAgZVSx7hUhAMf13WM8yQkD1fjwZzfxBQK9RPN1EoUxA3C09xJIASUD9LwMZ6IlQQNCmlRW/+ERAv8dQT1fNVkBoBfMiWqdVQHZUnePKkkFAj74RlLQUU0BUH+qB7mBIQCF/hdxh5E1AWQRbOfVUQ0AAAAAAAAD4fwjlfxeHpVRAaX9URyyfQEBLlbOjftY9QJS2aQaCFVdA0aIz8KRATEBHlsTALUNQQPan5eABaktAp9Wimdo0REB+xOR1yQ9AQE77AB0/ZEJAovBFdqcZSUA8gWkzqQ1HQHzmlODiw0lA4KtDEfPzRkDnTJA+Q6k7QLYvzwrdnkNA9gbUKqPSSkAAAAAAAMBYQN2MurQcMUhABYS5vfPmNEAocweHK+lGQBdJOz0TVjxAyJUsdXhfVEBH4ATf/D08QC8jTkm0EU5AzCrWkm55UUCublW6qzo9QFWO7Y+i30lAo9NO2uUjTEBwfKGXHCBOQDE+NPstjjJAk2vry0BpSkAfingYbO1JQBTiHiDce0BACpeG9Nk6QkDKzdZx1AdCQBKAU6YuPDFANTCW6oM+S0ARje4ujZxPQP+E5XT3sj5A6f/aDqjbN0DRYm6tKvtNQF5grRAK7kRAzEaf0YfuI0A3PXvBGPRJQHpICiHob1JAmRFVEKWNPkAFGcEQ3ak1QGzuwWd+f0BAvjVZHxAnVUDj2vrwTc5GQDSwI6mcblJAEvqz8MMsSECzTv74FQ5DQLNRGSLwZ0BA1xPcY6W5S0AGTQOdMxpPQP21rTZ36EdAXUX3oMUrR0BkW/9BXooxQLBN0KHyNSlAHDhUNFTZM0C2Bna2YRBSQEdNnh2rU0ZAxebq9mW4SED8AVwjaVRNQNwHmxmZdTpAOMSlFJxvTEAAAAAAAAD4fzgSn/BJjTBAAAAAAAAA+H+rNbzDlIZBQOH9rxo4jk9Ams3d2D/6VUAmYFlxj41AQJC3meddr1FAaVL4MOjGSkBhIdPwFehRQIcKKMqgnU5AKS/9jA1hSEAWyro2JUxEQBz5zIXcMlFABnCoE75MRUAJIhPZmlw3QI1wzoM6Wk9ASR12mfC0QEDF4QoNA31BQLHryc+n/U5A73MABe8eTUBQExCEMFBSQMjbO+EddVBAGy288dp4Q0CCE441BXJBQNP2E4tqC1RAnbbk0g7AN0CGzjHzoBRUQP1rTtp+kk1AwE95y/7dSEBezDZl1e8+QJpxulA2rjpA5sCSli1vSkDke5XaCGpNQMEnEijVpkxA/8ARsAoWPUD85lMdvSdMQPYnukyaETlAgeySGthKUkD+a+QzOpRAQBFQWC8hhUtAETTzhE+8TkDF4plKOt5BQI3sereDeENAADK2yoURR0CyPAsmcR5DQOPVV+NBuk9AMmmSBP99QECc1MhdL6AwQL07RTMSnVJAWsus3tWmQEAwhWUyMVpRQAPcwWcKRDxAn9E8dQQMQ0AB32Xl7MsyQIhS8NCcbTNAA5sruddkRkBEaHsbi/9NQL7vNVvgQUdAtLV9v0LmTEBPTZo5+I1QQLfpmhvcczhA2IXJU7a/SUCXlohqJr5GQLKahw0Ji0BAwV8bOloTKkCWTBdu7DNAQHxTqgtHZUBAcRLwtF5OTECcX6G8VixSQEp/HVW13FJAax5ZGYunOEAyU+4X44RBQDnMKFVkoVFAx5Zv1WhLQkDN1uyNXHJCQOklNK2I4UhAmFOJNJLUOUBw4wtFisZMQFDnU/SDthtA53aUkazKL0AVB57qa7VMQEp9zXFvyk5AHCDAuVZDS0DRAuyI964+QPy1FnjSUFBAftCXjznGREB7dPd2Z5FDQEx8UgTcw1BA5Cxz+pR9VEBM9jV+OyJNQKM5OBiKvUtAHCwczRNMJkDMX54xN4ZQQHvpFrvjgUVAYuzPl3RVREA6yZeWaxxSQKzKLx54wlBACLUdAgG2UUDuRC5ArEI3QAwRrmnpfVJACWDeQZqaQEDGXLBs5uxFQAAAAAAAAAhAIllJ5e9yS0CoX6v7+S1HQBaOsXG22VJA81qSKaFPUUDuJJQ7PvVIQLmB24kwOjxAPBL8jVirSEDq2Ll/sCRAQNbZcvYSJ1JAe4+fZEUIUkDE4ILLP/9AQGvGBELVK0RAv/6CAaDmS0DlvEZwCRRRQBrlPjIIi0xAU88D6xgWUEBqnYArAztTQLo9a5bEIjdAnJCJ4q7YUUC6gH1Wx9xSQCNj7pWn5UNAlHRg74IUTkA0DKIIyCpRQP8XBpijeT1ANOUWeapnTUALuZhw2mFIQDRt3qOickRA50+Yx9HARkAzFYhYywZIQDWCZRjvm0VA4niL7UOmRECIcF91ICw/QKjTvCI6TEdABvJT50H3NkAtFV6NLZY8QKUWKGIF40FA2gGZX77TUUAITAy63thPQFlMY8aue1JAAAAAAAAA+H928hPaGn5EQKqvUQ/wsTtAAAAAAAAA+H9YEQspAjhAQKVZfD0coExAPCgeWKx8TkB+8aQq4wFNQNxbGOocnkNARvm/j30HSUBPwIUb4EU1QJamM/8R5FRAIVNrlu6AR0BO0K7RfrZJQMZ+BiixukVAXIl4vpVNUUCvGZmEKWBJQHL4KyW15EtAVJdUm2aQT0CjonVER95PQCoCNmoTTT5Adn82/XnhREDNraEufWNCQAAAAAAAAAhAchw1xo7/R0CGw31a4B1TQCb5K6KflkFAsKAgI92RQ0B/n5A8TXZJQP8yeAAksEtA0+xrtZIiRUBkAMeljIRHQDg5Pq9FH0JA2IvjZuQTRUAAAAAAAAAIQGTUApos5E1AeEx5bGOqV0AeeWe8zjZIQDX7sXbeQUFAKjNoLvamUUChyRVO7j9IQEI6lJnxXUhAECFdFLVtOkA3u1CCB+FPQKP4HbEFIEVABtrDqnSzRED3eNdUCDBFQFxiCjOzHU9AhaQ1ujrNRUA0t3KnaKhJQGCyAyX+c0dAxT7MdtQPQEALqa74s/5CQJAuYYxPBUtAXNeBzrHuUUAjeZGlGZc4QGqSnCym5ENAllMPsedwSEB5QZMnbYY5QEC2KcTuMTRAoL+9u5DwREDiLjDa52JKQBaIXr3p40VAhmm5hoo/UUDpM6F0ARBQQEx8Y5G5WiRA+nHOQeMGSkBoEV0b/Gg5QHBFqv/wrzhABPyAXTWLIUBTMFZaXyJHQGg8IM38sihABr2SstyGPUAaGAMbqndPQLRUbFSro0VAYe/3HYfpQUDAyUjLtdFLQOZWYcqr+UxAjDizFAHKM0ABN7WtxQ5KQH+WwHADJUZAWfAJswhDSUD48TJmnfNKQMizRMiNpTBAiq/EVSFoQkAt9SDgacNGQEmWANaGrENAAAAAAAAA+H+OR3K/j0FFQI6S4wBHyENA6QLGyBrjT0CxMRT+WFFWQOal5sPUZFBAxUkvbGQLPUBWRsnjm7VOQAAAAAAAAAhAQFmn1mpRU0Dk53+GwAxRQEgyfIYBIFNAGqIJrqBIOkAZ7RnF+11MQMMTdy9eLD5A6XlxyOnATkB3QZs5cf5IQD2c4zkDjVJAAdatb8uzQ0DWvg4ZFuxQQGwuMX+6fVJAEhEb4Mf8UUAgKL2ugvlQQJj0sbntYDtACFyBgT+ITUA9b9Ihzk8+QGzV4aSoVFFAnY8qr/uMQkBh+BsLcsdKQDahU05IME9AMawWtHi3SUAAAAAAAAD4f/xvkOs7V0ZAthwLnzQrQ0BcsvBAf8hAQEbnKUAYEUtAbLS2yATdQECFu2F3jX5AQMrFEUbo+FBAxXdmDut0NEBW1vzWGFRNQAgIPdI0uUNASGEiRKMKVEBSiu3cDMxQQGq4JKqT0UNAOVM9M49+N0DNzRxWWTNMQAEUVFreRzxAjWYhp5M5SkAGQ50dDbhQQBdLiyyJ805Ahnt35k5DS0DDlEeHge1PQIQiBh/crEBA9axCbPCrQ0CT/eM5bh9BQN1feozulzJAoi95Ys0qS0AWTuHytbpDQBlm0j9bIklAbPjnuHpXRkDhD7/KKB9PQIV0dwF4jVVAJGIApYFAQUDN6h8VJF5QQMgtnUVw/1BAiTpcTx6xQUAAAAAAAAD4fwAAAAAAAPh/oMGytF2XFkAyIOnDzXNLQGPm40IswjVAhqyyCjeZT0C82ZCt1ABWQGIoGrF92EtA6DQoi5YJVkAHWhSl3X1GQFadBLzSVjtAjanoEngNTkDS4gGs27BJQHTfo5uuYEZA+L92LYknUUBRsLKXCKZFQLSKUESTEUFANY+UqgspNkCSQ3G81WZUQHprt1dXo0BAwMFN0VP+UkBT/mShnolCQDSvJub5LkpA7GFVPybRRUD/LY9gj/dCQFzsUCfI2SlAJuYoZQJYVkA=",
          "dtype": "f8"
         },
         "yaxis": "y4"
        },
        {
         "marker": {
          "color": "#DC143C"
         },
         "name": "Score Crédit - Classe 1",
         "side": "negative",
         "type": "violin",
         "xaxis": "x4",
         "y": {
          "bdata": "XOIJJlzRSkCe/QxOXONUQB5R0XalrkVAVbp69dXqS0AgI5EOTLZBQLe7/6lhLzpACjgXRBrQPkBWElJz9Zc8QHtvsSnPxVNAYEJn/6u5UUAAAAAAAAD4f9qoHFRHZFRAHP+Uw91OSUD9LhYG6X5OQEDzWPKjVFFAo5ug7xZfRUCZYa/NbCNIQOtZ9poasj5A6HOmrosHRECMlZOfa3ZCQHV9gFFMdDtAUfDwLqweQ0AUyA/mQxInQCdyuR31D0JABQ9wG/B7TUBf+FCaDdxBQFX2zuipUVBAUg9LMmgDR0BId4oj+wdKQMPNQLFuZ0ZAWxg5TRbJT0BkkvaTQYdVQKPQDA5NZkdA2FuJl2pKRUB0/aNmo1tIQEMrl1vSYU5AYyZuDmCiSkBUeRQtJXVNQNMN7XIYhDtAit2DhLMkSUC+WL49FvVIQNQMi+Igk1JAT9z5a7T8TEDNHl9cKbVCQDu+x5uIP09A",
          "dtype": "f8"
         },
         "yaxis": "y4"
        }
       ],
       "layout": {
        "annotations": [
         {
          "font": {
           "size": 16
          },
          "showarrow": false,
          "text": "Distribution de la Variable Cible",
          "x": 0.225,
          "xanchor": "center",
          "xref": "paper",
          "y": 1,
          "yanchor": "bottom",
          "yref": "paper"
         },
         {
          "font": {
           "size": 16
          },
          "showarrow": false,
          "text": "Distribution des Montants par Classe",
          "x": 0.775,
          "xanchor": "center",
          "xref": "paper",
          "y": 1,
          "yanchor": "bottom",
          "yref": "paper"
         },
         {
          "font": {
           "size": 16
          },
          "showarrow": false,
          "text": "Corrélation des Variables Numériques",
          "x": 0.5,
          "xanchor": "center",
          "xref": "paper",
          "y": 0.6111111111111112,
          "yanchor": "bottom",
          "yref": "paper"
         },
         {
          "font": {
           "size": 16
          },
          "showarrow": false,
          "text": "Distribution par Âge et Fraude",
          "x": 0.225,
          "xanchor": "center",
          "xref": "paper",
          "y": 0.22222222222222224,
          "yanchor": "bottom",
          "yref": "paper"
         },
         {
          "font": {
           "size": 16
          },
          "showarrow": false,
          "text": "Score de Crédit vs Fraude",
          "x": 0.775,
          "xanchor": "center",
          "xref": "paper",
          "y": 0.22222222222222224,
          "yanchor": "bottom",
          "yref": "paper"
         }
        ],
        "height": 1200,
        "showlegend": true,
        "template": {
         "data": {
          "bar": [
           {
            "error_x": {
             "color": "#2a3f5f"
            },
            "error_y": {
             "color": "#2a3f5f"
            },
            "marker": {
             "line": {
              "color": "#E5ECF6",
              "width": 0.5
             },
             "pattern": {
              "fillmode": "overlay",
              "size": 10,
              "solidity": 0.2
             }
            },
            "type": "bar"
           }
          ],
          "barpolar": [
           {
            "marker": {
             "line": {
              "color": "#E5ECF6",
              "width": 0.5
             },
             "pattern": {
              "fillmode": "overlay",
              "size": 10,
              "solidity": 0.2
             }
            },
            "type": "barpolar"
           }
          ],
          "carpet": [
           {
            "aaxis": {
             "endlinecolor": "#2a3f5f",
             "gridcolor": "white",
             "linecolor": "white",
             "minorgridcolor": "white",
             "startlinecolor": "#2a3f5f"
            },
            "baxis": {
             "endlinecolor": "#2a3f5f",
             "gridcolor": "white",
             "linecolor": "white",
             "minorgridcolor": "white",
             "startlinecolor": "#2a3f5f"
            },
            "type": "carpet"
           }
          ],
          "choropleth": [
           {
            "colorbar": {
             "outlinewidth": 0,
             "ticks": ""
            },
            "type": "choropleth"
           }
          ],
          "contour": [
           {
            "colorbar": {
             "outlinewidth": 0,
             "ticks": ""
            },
            "colorscale": [
             [
              0,
              "#0d0887"
             ],
             [
              0.1111111111111111,
              "#46039f"
             ],
             [
              0.2222222222222222,
              "#7201a8"
             ],
             [
              0.3333333333333333,
              "#9c179e"
             ],
             [
              0.4444444444444444,
              "#bd3786"
             ],
             [
              0.5555555555555556,
              "#d8576b"
             ],
             [
              0.6666666666666666,
              "#ed7953"
             ],
             [
              0.7777777777777778,
              "#fb9f3a"
             ],
             [
              0.8888888888888888,
              "#fdca26"
             ],
             [
              1,
              "#f0f921"
             ]
            ],
            "type": "contour"
           }
          ],
          "contourcarpet": [
           {
            "colorbar": {
             "outlinewidth": 0,
             "ticks": ""
            },
            "type": "contourcarpet"
           }
          ],
          "heatmap": [
           {
            "colorbar": {
             "outlinewidth": 0,
             "ticks": ""
            },
            "colorscale": [
             [
              0,
              "#0d0887"
             ],
             [
              0.1111111111111111,
              "#46039f"
             ],
             [
              0.2222222222222222,
              "#7201a8"
             ],
             [
              0.3333333333333333,
              "#9c179e"
             ],
             [
              0.4444444444444444,
              "#bd3786"
             ],
             [
              0.5555555555555556,
              "#d8576b"
             ],
             [
              0.6666666666666666,
              "#ed7953"
             ],
             [
              0.7777777777777778,
              "#fb9f3a"
             ],
             [
              0.8888888888888888,
              "#fdca26"
             ],
             [
              1,
              "#f0f921"
             ]
            ],
            "type": "heatmap"
           }
          ],
          "histogram": [
           {
            "marker": {
             "pattern": {
              "fillmode": "overlay",
              "size": 10,
              "solidity": 0.2
             }
            },
            "type": "histogram"
           }
          ],
          "histogram2d": [
           {
            "colorbar": {
             "outlinewidth": 0,
             "ticks": ""
            },
            "colorscale": [
             [
              0,
              "#0d0887"
             ],
             [
              0.1111111111111111,
              "#46039f"
             ],
             [
              0.2222222222222222,
              "#7201a8"
             ],
             [
              0.3333333333333333,
              "#9c179e"
             ],
             [
              0.4444444444444444,
              "#bd3786"
             ],
             [
              0.5555555555555556,
              "#d8576b"
             ],
             [
              0.6666666666666666,
              "#ed7953"
             ],
             [
              0.7777777777777778,
              "#fb9f3a"
             ],
             [
              0.8888888888888888,
              "#fdca26"
             ],
             [
              1,
              "#f0f921"
             ]
            ],
            "type": "histogram2d"
           }
          ],
          "histogram2dcontour": [
           {
            "colorbar": {
             "outlinewidth": 0,
             "ticks": ""
            },
            "colorscale": [
             [
              0,
              "#0d0887"
             ],
             [
              0.1111111111111111,
              "#46039f"
             ],
             [
              0.2222222222222222,
              "#7201a8"
             ],
             [
              0.3333333333333333,
              "#9c179e"
             ],
             [
              0.4444444444444444,
              "#bd3786"
             ],
             [
              0.5555555555555556,
              "#d8576b"
             ],
             [
              0.6666666666666666,
              "#ed7953"
             ],
             [
              0.7777777777777778,
              "#fb9f3a"
             ],
             [
              0.8888888888888888,
              "#fdca26"
             ],
             [
              1,
              "#f0f921"
             ]
            ],
            "type": "histogram2dcontour"
           }
          ],
          "mesh3d": [
           {
            "colorbar": {
             "outlinewidth": 0,
             "ticks": ""
            },
            "type": "mesh3d"
           }
          ],
          "parcoords": [
           {
            "line": {
             "colorbar": {
              "outlinewidth": 0,
              "ticks": ""
             }
            },
            "type": "parcoords"
           }
          ],
          "pie": [
           {
            "automargin": true,
            "type": "pie"
           }
          ],
          "scatter": [
           {
            "fillpattern": {
             "fillmode": "overlay",
             "size": 10,
             "solidity": 0.2
            },
            "type": "scatter"
           }
          ],
          "scatter3d": [
           {
            "line": {
             "colorbar": {
              "outlinewidth": 0,
              "ticks": ""
             }
            },
            "marker": {
             "colorbar": {
              "outlinewidth": 0,
              "ticks": ""
             }
            },
            "type": "scatter3d"
           }
          ],
          "scattercarpet": [
           {
            "marker": {
             "colorbar": {
              "outlinewidth": 0,
              "ticks": ""
             }
            },
            "type": "scattercarpet"
           }
          ],
          "scattergeo": [
           {
            "marker": {
             "colorbar": {
              "outlinewidth": 0,
              "ticks": ""
             }
            },
            "type": "scattergeo"
           }
          ],
          "scattergl": [
           {
            "marker": {
             "colorbar": {
              "outlinewidth": 0,
              "ticks": ""
             }
            },
            "type": "scattergl"
           }
          ],
          "scattermap": [
           {
            "marker": {
             "colorbar": {
              "outlinewidth": 0,
              "ticks": ""
             }
            },
            "type": "scattermap"
           }
          ],
          "scattermapbox": [
           {
            "marker": {
             "colorbar": {
              "outlinewidth": 0,
              "ticks": ""
             }
            },
            "type": "scattermapbox"
           }
          ],
          "scatterpolar": [
           {
            "marker": {
             "colorbar": {
              "outlinewidth": 0,
              "ticks": ""
             }
            },
            "type": "scatterpolar"
           }
          ],
          "scatterpolargl": [
           {
            "marker": {
             "colorbar": {
              "outlinewidth": 0,
              "ticks": ""
             }
            },
            "type": "scatterpolargl"
           }
          ],
          "scatterternary": [
           {
            "marker": {
             "colorbar": {
              "outlinewidth": 0,
              "ticks": ""
             }
            },
            "type": "scatterternary"
           }
          ],
          "surface": [
           {
            "colorbar": {
             "outlinewidth": 0,
             "ticks": ""
            },
            "colorscale": [
             [
              0,
              "#0d0887"
             ],
             [
              0.1111111111111111,
              "#46039f"
             ],
             [
              0.2222222222222222,
              "#7201a8"
             ],
             [
              0.3333333333333333,
              "#9c179e"
             ],
             [
              0.4444444444444444,
              "#bd3786"
             ],
             [
              0.5555555555555556,
              "#d8576b"
             ],
             [
              0.6666666666666666,
              "#ed7953"
             ],
             [
              0.7777777777777778,
              "#fb9f3a"
             ],
             [
              0.8888888888888888,
              "#fdca26"
             ],
             [
              1,
              "#f0f921"
             ]
            ],
            "type": "surface"
           }
          ],
          "table": [
           {
            "cells": {
             "fill": {
              "color": "#EBF0F8"
             },
             "line": {
              "color": "white"
             }
            },
            "header": {
             "fill": {
              "color": "#C8D4E3"
             },
             "line": {
              "color": "white"
             }
            },
            "type": "table"
           }
          ]
         },
         "layout": {
          "annotationdefaults": {
           "arrowcolor": "#2a3f5f",
           "arrowhead": 0,
           "arrowwidth": 1
          },
          "autotypenumbers": "strict",
          "coloraxis": {
           "colorbar": {
            "outlinewidth": 0,
            "ticks": ""
           }
          },
          "colorscale": {
           "diverging": [
            [
             0,
             "#8e0152"
            ],
            [
             0.1,
             "#c51b7d"
            ],
            [
             0.2,
             "#de77ae"
            ],
            [
             0.3,
             "#f1b6da"
            ],
            [
             0.4,
             "#fde0ef"
            ],
            [
             0.5,
             "#f7f7f7"
            ],
            [
             0.6,
             "#e6f5d0"
            ],
            [
             0.7,
             "#b8e186"
            ],
            [
             0.8,
             "#7fbc41"
            ],
            [
             0.9,
             "#4d9221"
            ],
            [
             1,
             "#276419"
            ]
           ],
           "sequential": [
            [
             0,
             "#0d0887"
            ],
            [
             0.1111111111111111,
             "#46039f"
            ],
            [
             0.2222222222222222,
             "#7201a8"
            ],
            [
             0.3333333333333333,
             "#9c179e"
            ],
            [
             0.4444444444444444,
             "#bd3786"
            ],
            [
             0.5555555555555556,
             "#d8576b"
            ],
            [
             0.6666666666666666,
             "#ed7953"
            ],
            [
             0.7777777777777778,
             "#fb9f3a"
            ],
            [
             0.8888888888888888,
             "#fdca26"
            ],
            [
             1,
             "#f0f921"
            ]
           ],
           "sequentialminus": [
            [
             0,
             "#0d0887"
            ],
            [
             0.1111111111111111,
             "#46039f"
            ],
            [
             0.2222222222222222,
             "#7201a8"
            ],
            [
             0.3333333333333333,
             "#9c179e"
            ],
            [
             0.4444444444444444,
             "#bd3786"
            ],
            [
             0.5555555555555556,
             "#d8576b"
            ],
            [
             0.6666666666666666,
             "#ed7953"
            ],
            [
             0.7777777777777778,
             "#fb9f3a"
            ],
            [
             0.8888888888888888,
             "#fdca26"
            ],
            [
             1,
             "#f0f921"
            ]
           ]
          },
          "colorway": [
           "#636efa",
           "#EF553B",
           "#00cc96",
           "#ab63fa",
           "#FFA15A",
           "#19d3f3",
           "#FF6692",
           "#B6E880",
           "#FF97FF",
           "#FECB52"
          ],
          "font": {
           "color": "#2a3f5f"
          },
          "geo": {
           "bgcolor": "white",
           "lakecolor": "white",
           "landcolor": "#E5ECF6",
           "showlakes": true,
           "showland": true,
           "subunitcolor": "white"
          },
          "hoverlabel": {
           "align": "left"
          },
          "hovermode": "closest",
          "mapbox": {
           "style": "light"
          },
          "paper_bgcolor": "white",
          "plot_bgcolor": "#E5ECF6",
          "polar": {
           "angularaxis": {
            "gridcolor": "white",
            "linecolor": "white",
            "ticks": ""
           },
           "bgcolor": "#E5ECF6",
           "radialaxis": {
            "gridcolor": "white",
            "linecolor": "white",
            "ticks": ""
           }
          },
          "scene": {
           "xaxis": {
            "backgroundcolor": "#E5ECF6",
            "gridcolor": "white",
            "gridwidth": 2,
            "linecolor": "white",
            "showbackground": true,
            "ticks": "",
            "zerolinecolor": "white"
           },
           "yaxis": {
            "backgroundcolor": "#E5ECF6",
            "gridcolor": "white",
            "gridwidth": 2,
            "linecolor": "white",
            "showbackground": true,
            "ticks": "",
            "zerolinecolor": "white"
           },
           "zaxis": {
            "backgroundcolor": "#E5ECF6",
            "gridcolor": "white",
            "gridwidth": 2,
            "linecolor": "white",
            "showbackground": true,
            "ticks": "",
            "zerolinecolor": "white"
           }
          },
          "shapedefaults": {
           "line": {
            "color": "#2a3f5f"
           }
          },
          "ternary": {
           "aaxis": {
            "gridcolor": "white",
            "linecolor": "white",
            "ticks": ""
           },
           "baxis": {
            "gridcolor": "white",
            "linecolor": "white",
            "ticks": ""
           },
           "bgcolor": "#E5ECF6",
           "caxis": {
            "gridcolor": "white",
            "linecolor": "white",
            "ticks": ""
           }
          },
          "title": {
           "x": 0.05
          },
          "xaxis": {
           "automargin": true,
           "gridcolor": "white",
           "linecolor": "white",
           "ticks": "",
           "title": {
            "standoff": 15
           },
           "zerolinecolor": "white",
           "zerolinewidth": 2
          },
          "yaxis": {
           "automargin": true,
           "gridcolor": "white",
           "linecolor": "white",
           "ticks": "",
           "title": {
            "standoff": 15
           },
           "zerolinecolor": "white",
           "zerolinewidth": 2
          }
         }
        },
        "title": {
         "text": "📊 Analyse Exploratoire Complète - Détection de Fraude"
        },
        "xaxis": {
         "anchor": "y",
         "domain": [
          0.55,
          1
         ]
        },
        "xaxis2": {
         "anchor": "y2",
         "domain": [
          0,
          1
         ]
        },
        "xaxis3": {
         "anchor": "y3",
         "domain": [
          0,
          0.45
         ]
        },
        "xaxis4": {
         "anchor": "y4",
         "domain": [
          0.55,
          1
         ]
        },
        "yaxis": {
         "anchor": "x",
         "domain": [
          0.7777777777777778,
          1
         ]
        },
        "yaxis2": {
         "anchor": "x2",
         "domain": [
          0.3888888888888889,
          0.6111111111111112
         ]
        },
        "yaxis3": {
         "anchor": "x3",
         "domain": [
          0,
          0.22222222222222224
         ]
        },
        "yaxis4": {
         "anchor": "x4",
         "domain": [
          0,
          0.22222222222222224
         ]
        }
       }
      }
     },
     "metadata": {},
     "output_type": "display_data"
    }
   ],
   "source": [
    "# Exécution des visualisations avancées\n",
    "print(\"🎨 Génération des visualisations avancées...\")\n",
    "create_advanced_visualizations(data)"
   ]
  },
  {
   "cell_type": "markdown",
   "metadata": {},
   "source": [
    "3.2 Analyse des Variables Catégorielles\n",
    "L'analyse des variables catégorielles révèle des patterns importants dans la distribution des fraudes selon différentes caractéristiques."
   ]
  },
  {
   "cell_type": "code",
   "execution_count": 10,
   "metadata": {},
   "outputs": [
    {
     "name": "stdout",
     "output_type": "stream",
     "text": [
      "\n",
      " Distribution de GENRE:\n",
      "fraude     0.0   1.0\n",
      "genre               \n",
      "femelle  96.67  3.33\n",
      "male     93.97  6.03\n"
     ]
    },
    {
     "data": {
      "image/png": "[encoded data removed]",
      "text/plain": [
       "<Figure size 1000x400 with 2 Axes>"
      ]
     },
     "metadata": {},
     "output_type": "display_data"
    },
    {
     "data": {
      "image/png": "[encoded data removed]",
      "text/plain": [
       "<Figure size 800x550 with 1 Axes>"
      ]
     },
     "metadata": {},
     "output_type": "display_data"
    },
    {
     "name": "stdout",
     "output_type": "stream",
     "text": [
      "\n",
      " Distribution de REGION:\n",
      "fraude     0.0   1.0\n",
      "region              \n",
      "Houston  95.42  4.58\n",
      "Miami    95.83  4.17\n",
      "Orlando  95.13  4.87\n"
     ]
    },
    {
     "data": {
      "image/png": "[encoded data removed]",
      "text/plain": [
       "<Figure size 1000x400 with 2 Axes>"
      ]
     },
     "metadata": {},
     "output_type": "display_data"
    },
    {
     "data": {
      "image/png": "[encoded data removed]",
      "text/plain": [
       "<Figure size 800x550 with 1 Axes>"
      ]
     },
     "metadata": {},
     "output_type": "display_data"
    },
    {
     "name": "stdout",
     "output_type": "stream",
     "text": [
      "\n",
      " Distribution de TYPE_CARTE:\n",
      "fraude        0.0   1.0\n",
      "type_carte             \n",
      "Mastercard  95.07  4.93\n",
      "Visa        95.67  4.33\n"
     ]
    },
    {
     "data": {
      "image/png": "[encoded data removed]",
      "text/plain": [
       "<Figure size 1000x400 with 2 Axes>"
      ]
     },
     "metadata": {},
     "output_type": "display_data"
    },
    {
     "data": {
      "image/png": "[encoded data removed]",
      "text/plain": [
       "<Figure size 800x550 with 1 Axes>"
      ]
     },
     "metadata": {},
     "output_type": "display_data"
    }
   ],
   "source": [
    "categorical_cols = ['genre', 'region', 'type_carte']\n",
    "\n",
    "for col in categorical_cols:\n",
    "    if col in data.columns:\n",
    "        print(f\"\\n Distribution de {col.upper()}:\")\n",
    "        crosstab = pd.crosstab(data[col], data['fraude'], normalize='index') * 100\n",
    "        print(crosstab.round(2))\n",
    "\n",
    "         # Visualisation\n",
    "        plt.figure(figsize=(10, 4))\n",
    "        \n",
    "        plt.subplot(1, 2, 1)\n",
    "        data[col].value_counts().plot(kind='bar', color='skyblue')\n",
    "        plt.title(f'Distribution de {col}')\n",
    "        plt.xticks(rotation=45)\n",
    "        \n",
    "        plt.subplot(1, 2, 2)\n",
    "        crosstab_abs = pd.crosstab(data[col], data['fraude'])\n",
    "        crosstab_abs.plot(kind='bar', stacked=True, color=['#2E8B57', '#DC143C'])\n",
    "        plt.title(f'Fraude par {col}')\n",
    "        plt.legend(['Non-Fraude', 'Fraude'])\n",
    "        plt.xticks(rotation=45)\n",
    "        \n",
    "        plt.tight_layout()\n",
    "        plt.show()"
   ]
  },
  {
   "cell_type": "code",
   "execution_count": 11,
   "metadata": {},
   "outputs": [
    {
     "name": "stdout",
     "output_type": "stream",
     "text": [
      "📈 Observations pour type_carte:\n",
      "   - Modalité avec le plus de fraudes: Mastercard (4.9%)\n",
      "   - Modalité avec le moins de fraudes: Visa (4.3%)\n"
     ]
    }
   ],
   "source": [
    "# Analyse statistique\n",
    "chi2_stat = pd.crosstab(data[col], data['fraude'])\n",
    "print(f\"📈 Observations pour {col}:\")\n",
    "print(f\"   - Modalité avec le plus de fraudes: {crosstab[1].idxmax()} ({crosstab[1].max():.1f}%)\")\n",
    "print(f\"   - Modalité avec le moins de fraudes: {crosstab[1].idxmin()} ({crosstab[1].min():.1f}%)\")"
   ]
  },
  {
   "cell_type": "markdown",
   "metadata": {},
   "source": [
    "3.3 Analyse de Corrélation\n",
    "L'analyse de corrélation identifie les relations entre variables et guide la sélection des features les plus pertinentes."
   ]
  },
  {
   "cell_type": "code",
   "execution_count": 12,
   "metadata": {},
   "outputs": [
    {
     "name": "stderr",
     "output_type": "stream",
     "text": [
      "C:\\Users\\HP\\AppData\\Local\\Temp\\ipykernel_10512\\47777747.py:18: UserWarning:\n",
      "\n",
      "Glyph 128279 (\\N{LINK SYMBOL}) missing from font(s) Arial.\n",
      "\n",
      "c:\\Users\\HP\\Documents\\dockerFom\\machinelearning\\lib\\site-packages\\IPython\\core\\pylabtools.py:152: UserWarning:\n",
      "\n",
      "Glyph 128279 (\\N{LINK SYMBOL}) missing from font(s) Arial.\n",
      "\n"
     ]
    },
    {
     "data": {
      "image/png": "[encoded data removed]",
      "text/plain": [
       "<Figure size 1200x800 with 2 Axes>"
      ]
     },
     "metadata": {},
     "output_type": "display_data"
    }
   ],
   "source": [
    "# Sélection des variables numériques\n",
    "numeric_cols = data.select_dtypes(include=[np.number]).columns.tolist()\n",
    "corr_matrix = data[numeric_cols].corr()\n",
    "\n",
    "# Heatmap de corrélation avec annotations\n",
    "plt.figure(figsize=(12, 8))\n",
    "mask = np.triu(np.ones_like(corr_matrix, dtype=bool))\n",
    "sns.heatmap(corr_matrix, \n",
    "            mask=mask,\n",
    "            annot=True, \n",
    "            cmap='RdYlBu_r', \n",
    "            center=0,\n",
    "            square=True,\n",
    "            fmt='.2f',\n",
    "            cbar_kws={\"shrink\": .8},\n",
    "            linewidths=0.5)\n",
    "plt.title('🔗 Matrice de Corrélation des Variables Numériques')\n",
    "plt.tight_layout()\n",
    "plt.show()"
   ]
  },
  {
   "cell_type": "code",
   "execution_count": 13,
   "metadata": {},
   "outputs": [
    {
     "name": "stdout",
     "output_type": "stream",
     "text": [
      "\n",
      "🎯 Corrélations avec la variable FRAUDE:\n",
      "┌─────────────────────────┬──────────┐\n",
      "│ Variable              │ Corrél.  │\n",
      "├─────────────────────────┼──────────┤\n",
      "│ montant_transaction   │ 🟢 0.045 │\n",
      "│ salaire               │ 🟢 0.016 │\n",
      "│ score_credit          │ 🟢 0.007 │\n",
      "│ age                   │ 🟢 0.006 │\n",
      "│ anciennete_compte     │ 🟢 0.004 │\n",
      "└─────────────────────────┴──────────┘\n"
     ]
    }
   ],
   "source": [
    " # Analyse des corrélations avec la variable cible\n",
    "if 'fraude' in corr_matrix.columns:\n",
    "        print(\"\\n🎯 Corrélations avec la variable FRAUDE:\")\n",
    "        fraude_corr = corr_matrix['fraude'].abs().sort_values(ascending=False)\n",
    "        \n",
    "        print(\"┌\" + \"─\"*25 + \"┬\" + \"─\"*10 + \"┐\")\n",
    "        print(\"│ Variable              │ Corrél.  │\")\n",
    "        print(\"├\" + \"─\"*25 + \"┼\" + \"─\"*10 + \"┤\")\n",
    "        \n",
    "        for var, corr in fraude_corr.items():\n",
    "            if var != 'fraude':\n",
    "                corr_strength = \"🔴\" if abs(corr) > 0.5 else \"🟡\" if abs(corr) > 0.3 else \"🟢\"\n",
    "                print(f\"│ {var:<21} │ {corr_strength} {corr:>5.3f} │\")\n",
    "        \n",
    "        print(\"└\" + \"─\"*25 + \"┴\" + \"─\"*10 + \"┘\")\n",
    "        \n",
    "        # Identification des corrélations fortes\n",
    "        strong_corr = fraude_corr[fraude_corr > 0.3]\n",
    "        if len(strong_corr) > 1:  # Exclure la variable fraude elle-même\n",
    "            print(f\"\\n🔍 Variables les plus corrélées (|r| > 0.3): {len(strong_corr)-1}\")"
   ]
  },
  {
   "cell_type": "markdown",
   "metadata": {},
   "source": [
    "4. Préparation et Nettoyage des Données"
   ]
  },
  {
   "cell_type": "markdown",
   "metadata": {},
   "source": [
    "4.1 Gestion des Valeurs Manquantes\n",
    "Une approche sophistiquée pour traiter les valeurs manquantes selon le type de variable et la distribution des données."
   ]
  },
  {
   "cell_type": "code",
   "execution_count": 14,
   "metadata": {},
   "outputs": [
    {
     "name": "stdout",
     "output_type": "stream",
     "text": [
      "\n",
      "============================================================\n",
      "🔧 GESTION DES VALEURS MANQUANTES\n",
      "============================================================\n",
      "⚠️  203 valeurs manquantes détectées dans 9 colonnes\n",
      "\n",
      "Détail par colonne:\n",
      "┌────────────────────┬──────────┬────────┐\n",
      "│ Colonne              │ Manq.    │ %       │\n",
      "├────────────────────┼──────────┼────────┤\n",
      "│ age                │       17 │    1.7% │\n",
      "│ salaire            │       18 │    1.8% │\n",
      "│ score_credit       │       22 │    2.2% │\n",
      "│ montant_transaction │       24 │    2.4% │\n",
      "│ anciennete_compte  │       21 │    2.1% │\n",
      "│ type_carte         │       23 │    2.3% │\n",
      "│ region             │       17 │    1.7% │\n",
      "│ genre              │       23 │    2.3% │\n",
      "│ fraude             │       38 │    3.7% │\n",
      "└────────────────────┴──────────┴────────┘\n",
      "✅ age: remplacé par la moyenne (40.41)\n",
      "✅ salaire: remplacé par la moyenne (297164.64)\n",
      "✅ score_credit: remplacé par la moyenne (49.57)\n",
      "✅ montant_transaction: remplacé par la moyenne (5088725.02)\n",
      "✅ anciennete_compte: remplacé par la moyenne (9.66)\n",
      "✅ type_carte: remplacé par le mode ('Visa')\n",
      "✅ region: remplacé par le mode ('Houston')\n",
      "✅ genre: remplacé par le mode ('male')\n",
      "✅ fraude: remplacé par la moyenne (0.05)\n"
     ]
    },
    {
     "name": "stderr",
     "output_type": "stream",
     "text": [
      "C:\\Users\\HP\\AppData\\Local\\Temp\\ipykernel_10512\\2835877514.py:32: FutureWarning:\n",
      "\n",
      "A value is trying to be set on a copy of a DataFrame or Series through chained assignment using an inplace method.\n",
      "The behavior will change in pandas 3.0. This inplace method will never work because the intermediate object on which we are setting values always behaves as a copy.\n",
      "\n",
      "For example, when doing 'df[col].method(value, inplace=True)', try using 'df.method({col: value}, inplace=True)' or df[col] = df[col].method(value) instead, to perform the operation inplace on the original object.\n",
      "\n",
      "\n",
      "\n",
      "C:\\Users\\HP\\AppData\\Local\\Temp\\ipykernel_10512\\2835877514.py:40: FutureWarning:\n",
      "\n",
      "A value is trying to be set on a copy of a DataFrame or Series through chained assignment using an inplace method.\n",
      "The behavior will change in pandas 3.0. This inplace method will never work because the intermediate object on which we are setting values always behaves as a copy.\n",
      "\n",
      "For example, when doing 'df[col].method(value, inplace=True)', try using 'df.method({col: value}, inplace=True)' or df[col] = df[col].method(value) instead, to perform the operation inplace on the original object.\n",
      "\n",
      "\n",
      "\n"
     ]
    }
   ],
   "source": [
    "def handle_missing_values_advanced(data):\n",
    "   \n",
    "    print(\"\\n\" + \"=\"*60)\n",
    "    print(\"🔧 GESTION DES VALEURS MANQUANTES\")\n",
    "    print(\"=\"*60)\n",
    "    \n",
    "    data_processed = data.copy()\n",
    "    \n",
    "    # Diagnostic initial\n",
    "    missing_summary = data_processed.isnull().sum()\n",
    "    total_missing = missing_summary.sum()\n",
    "    \n",
    "    if total_missing > 0:\n",
    "        print(f\"⚠️  {total_missing} valeurs manquantes détectées dans {len(missing_summary[missing_summary > 0])} colonnes\")\n",
    "        print(\"\\nDétail par colonne:\")\n",
    "        print(\"┌\" + \"─\"*20 + \"┬\" + \"─\"*10 + \"┬\" + \"─\"*8 + \"┐\")\n",
    "        print(\"│ Colonne              │ Manq.    │ %       │\")\n",
    "        print(\"├\" + \"─\"*20 + \"┼\" + \"─\"*10 + \"┼\" + \"─\"*8 + \"┤\")\n",
    "        \n",
    "        for col, count in missing_summary[missing_summary > 0].items():\n",
    "            pct = (count / len(data_processed)) * 100\n",
    "            print(f\"│ {col:<18} │ {count:>8} │ {pct:>6.1f}% │\")\n",
    "        \n",
    "        print(\"└\" + \"─\"*20 + \"┴\" + \"─\"*10 + \"┴\" + \"─\"*8 + \"┘\")\n",
    "        \n",
    "        # Traitement adaptatif par colonne\n",
    "        for col in data_processed.columns:\n",
    "            if data_processed[col].isnull().sum() > 0:\n",
    "                if data_processed[col].dtype in ['float64', 'int64']:\n",
    "                    # Variables numériques: stratégie basée sur la distribution\n",
    "                    fill_value = data_processed[col].mean()\n",
    "                    data_processed[col].fillna(fill_value, inplace=True)\n",
    "                    print(f\"✅ {col}: remplacé par la moyenne ({fill_value:.2f})\")\n",
    "                    \n",
    "                else:\n",
    "                    # Variables catégorielles: mode ou valeur par défaut\n",
    "                    mode_values = data_processed[col].mode()\n",
    "                    if not mode_values.empty:\n",
    "                        fill_value = mode_values.iloc[0]\n",
    "                        data_processed[col].fillna(fill_value, inplace=True)\n",
    "                        print(f\"✅ {col}: remplacé par le mode ('{fill_value}')\")\n",
    "                    else:\n",
    "                        data_processed[col].fillna('Unknown', inplace=True)\n",
    "                        print(f\"✅ {col}: remplacé par 'Unknown'\")\n",
    "    else:\n",
    "        print(\"✅ Aucune valeur manquante détectée\")\n",
    "    \n",
    "    return data_processed\n",
    "# Application du traitement des valeurs manquantes\n",
    "data = handle_missing_values_advanced(data)"
   ]
  },
  {
   "cell_type": "markdown",
   "metadata": {},
   "source": [
    "4.2 Traitement Spécialisé par Colonne\n",
    "Traitement ciblé pour chaque colonne selon sa nature et son importance dans l'analyse."
   ]
  },
  {
   "cell_type": "code",
   "execution_count": 15,
   "metadata": {},
   "outputs": [
    {
     "name": "stdout",
     "output_type": "stream",
     "text": [
      "\n",
      " Application de stratégies spécialisées par colonne...\n",
      "\n",
      " Traitement des valeurs manquantes restantes...\n",
      "\n",
      "📊 Vérification finale: 0 valeurs manquantes restantes\n"
     ]
    }
   ],
   "source": [
    "def apply_specialized_filling(data):\n",
    "    print(\"\\n Application de stratégies spécialisées par colonne...\")\n",
    "    \n",
    "    # Traitement de l'âge\n",
    "    if 'age' in data.columns and data['age'].isnull().sum() > 0:\n",
    "        age_mean = data['age'].mean()\n",
    "        data['age'].fillna(age_mean, inplace=True)\n",
    "        print(f\"✅ Age: {data['age'].isnull().sum()} → 0 (moyenne: {age_mean:.1f})\")\n",
    "    \n",
    "    # Traitement du salaire\n",
    "    if 'salaire' in data.columns and data['salaire'].isnull().sum() > 0:\n",
    "        salaire_mean = data['salaire'].mean()\n",
    "        data.fillna({'salaire': salaire_mean}, inplace=True)\n",
    "        print(f\"✅ Salaire: rempli avec la moyenne ({salaire_mean:.0f})\")\n",
    "    \n",
    "    # Traitement du score de crédit\n",
    "    if 'score_credit' in data.columns and data['score_credit'].isnull().sum() > 0:\n",
    "        score_mean = data['score_credit'].mean()\n",
    "        data.fillna({'score_credit': score_mean}, inplace=True)\n",
    "        print(f\"✅ Score crédit: rempli avec la moyenne ({score_mean:.0f})\")\n",
    "    \n",
    "    return data\n",
    "\n",
    "def fill_remaining_missing_values(data, columns_to_process):\n",
    "    print(\"\\n Traitement des valeurs manquantes restantes...\")\n",
    "    \n",
    "    for col in columns_to_process:\n",
    "        if col not in data.columns:\n",
    "            print(f\"  Colonne '{col}' non trouvée\")\n",
    "            continue\n",
    "            \n",
    "        missing_count = data[col].isnull().sum()\n",
    "        if missing_count == 0:\n",
    "            continue\n",
    "            \n",
    "        if data[col].dtype in ['float64', 'int64']:\n",
    "            # Variables numériques\n",
    "            mean_val = data[col].mean()\n",
    "            data[col] = data[col].fillna(mean_val)\n",
    "            print(f\"✅ {col}: {missing_count} valeurs → moyenne ({mean_val:.2f})\")\n",
    "            \n",
    "        elif data[col].dtype == 'object' or data[col].dtype.name == 'category':\n",
    "            # Variables catégorielles\n",
    "            mode_values = data[col].mode()\n",
    "            if not mode_values.empty:\n",
    "                mode_val = mode_values.iloc[0]\n",
    "                data[col] = data[col].fillna(mode_val)\n",
    "                print(f\"✅ {col}: {missing_count} valeurs → mode ('{mode_val}')\")\n",
    "    \n",
    "    return data\n",
    "\n",
    "# Application des traitements\n",
    "data = apply_specialized_filling(data)\n",
    "\n",
    "# Traitement des colonnes spécifiques\n",
    "columns_to_fill = ['montant_transaction', 'anciennete_compte', 'type_carte', 'region', 'genre']\n",
    "data = fill_remaining_missing_values(data, columns_to_fill)\n",
    "\n",
    "# Vérification finale\n",
    "print(f\"\\n📊 Vérification finale: {data.isnull().sum().sum()} valeurs manquantes restantes\")"
   ]
  },
  {
   "cell_type": "markdown",
   "metadata": {},
   "source": [
    "4.3 Gestion des Doublons\n",
    "Identification et suppression des observations dupliquées pour améliorer la qualité des données."
   ]
  },
  {
   "cell_type": "code",
   "execution_count": 16,
   "metadata": {},
   "outputs": [
    {
     "name": "stdout",
     "output_type": "stream",
     "text": [
      "📊 Observations initiales: 1,020\n",
      "🔄 Doublons détectés: 10\n"
     ]
    }
   ],
   "source": [
    " # Comptage initial\n",
    "initial_count = len(data)\n",
    "duplicate_count = data.duplicated().sum()\n",
    "\n",
    "print(f\"📊 Observations initiales: {initial_count:,}\")\n",
    "print(f\"🔄 Doublons détectés: {duplicate_count:,}\")"
   ]
  },
  {
   "cell_type": "code",
   "execution_count": 17,
   "metadata": {},
   "outputs": [
    {
     "name": "stdout",
     "output_type": "stream",
     "text": [
      "✅ Doublons supprimés: 10\n",
      "📊 Observations finales: 1,010\n"
     ]
    }
   ],
   "source": [
    "  # Suppression des doublons\n",
    "data_cleaned = data.drop_duplicates()\n",
    "final_count = len(data_cleaned)\n",
    "removed_count = initial_count - final_count\n",
    "        \n",
    "print(f\"✅ Doublons supprimés: {removed_count:,}\")\n",
    "print(f\"📊 Observations finales: {final_count:,}\")"
   ]
  },
  {
   "cell_type": "markdown",
   "metadata": {},
   "source": [
    "5. Encodage des Variables Catégorielles"
   ]
  },
  {
   "cell_type": "markdown",
   "metadata": {},
   "source": [
    "5.1 Stratégie d'Encodage Intelligente\n",
    "Application d'une stratégie d'encodage adaptée selon le nombre de modalités et la nature de chaque variable."
   ]
  },
  {
   "cell_type": "code",
   "execution_count": 18,
   "metadata": {},
   "outputs": [
    {
     "name": "stdout",
     "output_type": "stream",
     "text": [
      "\n",
      " Traitement de 'genre':\n",
      "   - Modalités uniques: 2\n",
      "   - Type d'encodage: Label Encoding (binaire)\n",
      "   - Exemple de transformation: ['femelle', 'male'] → [np.int64(0), np.int64(1)]\n",
      "\n",
      " Traitement de 'region':\n",
      "   - Modalités uniques: 3\n",
      "   - Type d'encodage: Frequency Encoding (multi-classes)\n",
      "   - Exemple de transformation: ['Houston', 'Orlando', 'Miami'] → [np.float64(2.531017369727047), np.float64(3.1677018633540373), np.float64(3.457627118644068)]\n",
      "\n",
      " Traitement de 'type_carte':\n",
      "   - Modalités uniques: 2\n",
      "   - Type d'encodage: Label Encoding (binaire)\n",
      "   - Exemple de transformation: ['Mastercard', 'Visa'] → [np.int64(0), np.int64(1)]\n"
     ]
    }
   ],
   "source": [
    "def encode_categorical_variables(data, categorical_columns):\n",
    "    \n",
    "    data_encoded = data.copy()\n",
    "    encoders_dict = {}\n",
    "    total_rows = len(data_encoded)\n",
    "    \n",
    "    for col in categorical_columns:\n",
    "            \n",
    "        if data_encoded[col].dtype == 'object' or data_encoded[col].dtype.name == 'category':\n",
    "            unique_values = data_encoded[col].dropna().unique()\n",
    "            n_unique = len(unique_values)\n",
    "            \n",
    "            print(f\"\\n Traitement de '{col}':\")\n",
    "            print(f\"   - Modalités uniques: {n_unique}\")\n",
    "            print(f\"   - Type d'encodage: \", end=\"\")\n",
    "            \n",
    "            if n_unique <= 2:\n",
    "                # Label Encoding pour les variables binaires\n",
    "                le = LabelEncoder()\n",
    "                data_encoded[col] = le.fit_transform(data_encoded[col].astype(str))\n",
    "                encoders_dict[col] = {'type': 'label', 'encoder': le}\n",
    "                print(\"Label Encoding (binaire)\")\n",
    "                \n",
    "            else:\n",
    "                # Frequency Encoding pour les variables multi-classes\n",
    "                value_counts = data_encoded[col].value_counts()\n",
    "                freq_map = {k: total_rows / v for k, v in value_counts.items()}\n",
    "                data_encoded[col] = data_encoded[col].map(freq_map)\n",
    "                encoders_dict[col] = {'type': 'frequency', 'mapping': freq_map}\n",
    "                print(\"Frequency Encoding (multi-classes)\")\n",
    "            \n",
    "            # Affichage des premiers exemples de transformation\n",
    "            print(f\"   - Exemple de transformation: {list(unique_values[:3])} → {list(data_encoded[col].unique()[:3])}\")\n",
    "    \n",
    "    return data_encoded, encoders_dict\n",
    "\n",
    "# Application de l'encodage\n",
    "categorical_columns = ['genre', 'region', 'type_carte']\n",
    "data, encoding_info = encode_categorical_variables(data, categorical_columns)"
   ]
  },
  {
   "cell_type": "markdown",
   "metadata": {},
   "source": [
    "6. Traitement de la Variable Cible et Équilibrage des Classes"
   ]
  },
  {
   "cell_type": "markdown",
   "metadata": {},
   "source": [
    "6.1 Imputation de la Variable Cible\n",
    "Utilisation d'un modèle KNN pour prédire les valeurs manquantes de la variable cible de manière cohérente."
   ]
  },
  {
   "cell_type": "code",
   "execution_count": null,
   "metadata": {},
   "outputs": [],
   "source": []
  },
  {
   "cell_type": "code",
   "execution_count": 19,
   "metadata": {},
   "outputs": [],
   "source": [
    "# Avant d'utiliser KNN Imputer, vous devez préparer vos données\n",
    "# 1. Séparer les données complètes et incomplètes\n",
    "complete_data = data.dropna(subset=['fraude'])\n",
    "incomplete_data = data[data['fraude'].isna()]\n",
    "\n",
    "# 2. Définir features et target\n",
    "features_incomplete = complete_data.drop('fraude', axis=1)\n",
    "target_complete = complete_data['fraude']\n",
    "\n",
    "# 3. Vérifier que la cible est bien catégorielle pour KNN Classifier\n",
    "if target_complete.dtype == 'float':\n",
    "    target_complete = target_complete.round().astype(int)\n",
    "\n"
   ]
  },
  {
   "cell_type": "code",
   "execution_count": 20,
   "metadata": {},
   "outputs": [
    {
     "name": "stdout",
     "output_type": "stream",
     "text": [
      "Entraînement du modèle KNN pour l'imputation...\n"
     ]
    },
    {
     "data": {
      "text/html": [
       "<style>#sk-container-id-1 {\n",
       "  /* Definition of color scheme common for light and dark mode */\n",
       "  --sklearn-color-text: #000;\n",
       "  --sklearn-color-text-muted: #666;\n",
       "  --sklearn-color-line: gray;\n",
       "  /* Definition of color scheme for unfitted estimators */\n",
       "  --sklearn-color-unfitted-level-0: #fff5e6;\n",
       "  --sklearn-color-unfitted-level-1: #f6e4d2;\n",
       "  --sklearn-color-unfitted-level-2: #ffe0b3;\n",
       "  --sklearn-color-unfitted-level-3: chocolate;\n",
       "  /* Definition of color scheme for fitted estimators */\n",
       "  --sklearn-color-fitted-level-0: #f0f8ff;\n",
       "  --sklearn-color-fitted-level-1: #d4ebff;\n",
       "  --sklearn-color-fitted-level-2: #b3dbfd;\n",
       "  --sklearn-color-fitted-level-3: cornflowerblue;\n",
       "\n",
       "  /* Specific color for light theme */\n",
       "  --sklearn-color-text-on-default-background: var(--sg-text-color, var(--theme-code-foreground, var(--jp-content-font-color1, black)));\n",
       "  --sklearn-color-background: var(--sg-background-color, var(--theme-background, var(--jp-layout-color0, white)));\n",
       "  --sklearn-color-border-box: var(--sg-text-color, var(--theme-code-foreground, var(--jp-content-font-color1, black)));\n",
       "  --sklearn-color-icon: #696969;\n",
       "\n",
       "  @media (prefers-color-scheme: dark) {\n",
       "    /* Redefinition of color scheme for dark theme */\n",
       "    --sklearn-color-text-on-default-background: var(--sg-text-color, var(--theme-code-foreground, var(--jp-content-font-color1, white)));\n",
       "    --sklearn-color-background: var(--sg-background-color, var(--theme-background, var(--jp-layout-color0, #111)));\n",
       "    --sklearn-color-border-box: var(--sg-text-color, var(--theme-code-foreground, var(--jp-content-font-color1, white)));\n",
       "    --sklearn-color-icon: #878787;\n",
       "  }\n",
       "}\n",
       "\n",
       "#sk-container-id-1 {\n",
       "  color: var(--sklearn-color-text);\n",
       "}\n",
       "\n",
       "#sk-container-id-1 pre {\n",
       "  padding: 0;\n",
       "}\n",
       "\n",
       "#sk-container-id-1 input.sk-hidden--visually {\n",
       "  border: 0;\n",
       "  clip: rect(1px 1px 1px 1px);\n",
       "  clip: rect(1px, 1px, 1px, 1px);\n",
       "  height: 1px;\n",
       "  margin: -1px;\n",
       "  overflow: hidden;\n",
       "  padding: 0;\n",
       "  position: absolute;\n",
       "  width: 1px;\n",
       "}\n",
       "\n",
       "#sk-container-id-1 div.sk-dashed-wrapped {\n",
       "  border: 1px dashed var(--sklearn-color-line);\n",
       "  margin: 0 0.4em 0.5em 0.4em;\n",
       "  box-sizing: border-box;\n",
       "  padding-bottom: 0.4em;\n",
       "  background-color: var(--sklearn-color-background);\n",
       "}\n",
       "\n",
       "#sk-container-id-1 div.sk-container {\n",
       "  /* jupyter's `normalize.less` sets `[hidden] { display: none; }`\n",
       "     but bootstrap.min.css set `[hidden] { display: none !important; }`\n",
       "     so we also need the `!important` here to be able to override the\n",
       "     default hidden behavior on the sphinx rendered scikit-learn.org.\n",
       "     See: https://github.com/scikit-learn/scikit-learn/issues/21755 */\n",
       "  display: inline-block !important;\n",
       "  position: relative;\n",
       "}\n",
       "\n",
       "#sk-container-id-1 div.sk-text-repr-fallback {\n",
       "  display: none;\n",
       "}\n",
       "\n",
       "div.sk-parallel-item,\n",
       "div.sk-serial,\n",
       "div.sk-item {\n",
       "  /* draw centered vertical line to link estimators */\n",
       "  background-image: linear-gradient(var(--sklearn-color-text-on-default-background), var(--sklearn-color-text-on-default-background));\n",
       "  background-size: 2px 100%;\n",
       "  background-repeat: no-repeat;\n",
       "  background-position: center center;\n",
       "}\n",
       "\n",
       "/* Parallel-specific style estimator block */\n",
       "\n",
       "#sk-container-id-1 div.sk-parallel-item::after {\n",
       "  content: \"\";\n",
       "  width: 100%;\n",
       "  border-bottom: 2px solid var(--sklearn-color-text-on-default-background);\n",
       "  flex-grow: 1;\n",
       "}\n",
       "\n",
       "#sk-container-id-1 div.sk-parallel {\n",
       "  display: flex;\n",
       "  align-items: stretch;\n",
       "  justify-content: center;\n",
       "  background-color: var(--sklearn-color-background);\n",
       "  position: relative;\n",
       "}\n",
       "\n",
       "#sk-container-id-1 div.sk-parallel-item {\n",
       "  display: flex;\n",
       "  flex-direction: column;\n",
       "}\n",
       "\n",
       "#sk-container-id-1 div.sk-parallel-item:first-child::after {\n",
       "  align-self: flex-end;\n",
       "  width: 50%;\n",
       "}\n",
       "\n",
       "#sk-container-id-1 div.sk-parallel-item:last-child::after {\n",
       "  align-self: flex-start;\n",
       "  width: 50%;\n",
       "}\n",
       "\n",
       "#sk-container-id-1 div.sk-parallel-item:only-child::after {\n",
       "  width: 0;\n",
       "}\n",
       "\n",
       "/* Serial-specific style estimator block */\n",
       "\n",
       "#sk-container-id-1 div.sk-serial {\n",
       "  display: flex;\n",
       "  flex-direction: column;\n",
       "  align-items: center;\n",
       "  background-color: var(--sklearn-color-background);\n",
       "  padding-right: 1em;\n",
       "  padding-left: 1em;\n",
       "}\n",
       "\n",
       "\n",
       "/* Toggleable style: style used for estimator/Pipeline/ColumnTransformer box that is\n",
       "clickable and can be expanded/collapsed.\n",
       "- Pipeline and ColumnTransformer use this feature and define the default style\n",
       "- Estimators will overwrite some part of the style using the `sk-estimator` class\n",
       "*/\n",
       "\n",
       "/* Pipeline and ColumnTransformer style (default) */\n",
       "\n",
       "#sk-container-id-1 div.sk-toggleable {\n",
       "  /* Default theme specific background. It is overwritten whether we have a\n",
       "  specific estimator or a Pipeline/ColumnTransformer */\n",
       "  background-color: var(--sklearn-color-background);\n",
       "}\n",
       "\n",
       "/* Toggleable label */\n",
       "#sk-container-id-1 label.sk-toggleable__label {\n",
       "  cursor: pointer;\n",
       "  display: flex;\n",
       "  width: 100%;\n",
       "  margin-bottom: 0;\n",
       "  padding: 0.5em;\n",
       "  box-sizing: border-box;\n",
       "  text-align: center;\n",
       "  align-items: start;\n",
       "  justify-content: space-between;\n",
       "  gap: 0.5em;\n",
       "}\n",
       "\n",
       "#sk-container-id-1 label.sk-toggleable__label .caption {\n",
       "  font-size: 0.6rem;\n",
       "  font-weight: lighter;\n",
       "  color: var(--sklearn-color-text-muted);\n",
       "}\n",
       "\n",
       "#sk-container-id-1 label.sk-toggleable__label-arrow:before {\n",
       "  /* Arrow on the left of the label */\n",
       "  content: \"▸\";\n",
       "  float: left;\n",
       "  margin-right: 0.25em;\n",
       "  color: var(--sklearn-color-icon);\n",
       "}\n",
       "\n",
       "#sk-container-id-1 label.sk-toggleable__label-arrow:hover:before {\n",
       "  color: var(--sklearn-color-text);\n",
       "}\n",
       "\n",
       "/* Toggleable content - dropdown */\n",
       "\n",
       "#sk-container-id-1 div.sk-toggleable__content {\n",
       "  max-height: 0;\n",
       "  max-width: 0;\n",
       "  overflow: hidden;\n",
       "  text-align: left;\n",
       "  /* unfitted */\n",
       "  background-color: var(--sklearn-color-unfitted-level-0);\n",
       "}\n",
       "\n",
       "#sk-container-id-1 div.sk-toggleable__content.fitted {\n",
       "  /* fitted */\n",
       "  background-color: var(--sklearn-color-fitted-level-0);\n",
       "}\n",
       "\n",
       "#sk-container-id-1 div.sk-toggleable__content pre {\n",
       "  margin: 0.2em;\n",
       "  border-radius: 0.25em;\n",
       "  color: var(--sklearn-color-text);\n",
       "  /* unfitted */\n",
       "  background-color: var(--sklearn-color-unfitted-level-0);\n",
       "}\n",
       "\n",
       "#sk-container-id-1 div.sk-toggleable__content.fitted pre {\n",
       "  /* unfitted */\n",
       "  background-color: var(--sklearn-color-fitted-level-0);\n",
       "}\n",
       "\n",
       "#sk-container-id-1 input.sk-toggleable__control:checked~div.sk-toggleable__content {\n",
       "  /* Expand drop-down */\n",
       "  max-height: 200px;\n",
       "  max-width: 100%;\n",
       "  overflow: auto;\n",
       "}\n",
       "\n",
       "#sk-container-id-1 input.sk-toggleable__control:checked~label.sk-toggleable__label-arrow:before {\n",
       "  content: \"▾\";\n",
       "}\n",
       "\n",
       "/* Pipeline/ColumnTransformer-specific style */\n",
       "\n",
       "#sk-container-id-1 div.sk-label input.sk-toggleable__control:checked~label.sk-toggleable__label {\n",
       "  color: var(--sklearn-color-text);\n",
       "  background-color: var(--sklearn-color-unfitted-level-2);\n",
       "}\n",
       "\n",
       "#sk-container-id-1 div.sk-label.fitted input.sk-toggleable__control:checked~label.sk-toggleable__label {\n",
       "  background-color: var(--sklearn-color-fitted-level-2);\n",
       "}\n",
       "\n",
       "/* Estimator-specific style */\n",
       "\n",
       "/* Colorize estimator box */\n",
       "#sk-container-id-1 div.sk-estimator input.sk-toggleable__control:checked~label.sk-toggleable__label {\n",
       "  /* unfitted */\n",
       "  background-color: var(--sklearn-color-unfitted-level-2);\n",
       "}\n",
       "\n",
       "#sk-container-id-1 div.sk-estimator.fitted input.sk-toggleable__control:checked~label.sk-toggleable__label {\n",
       "  /* fitted */\n",
       "  background-color: var(--sklearn-color-fitted-level-2);\n",
       "}\n",
       "\n",
       "#sk-container-id-1 div.sk-label label.sk-toggleable__label,\n",
       "#sk-container-id-1 div.sk-label label {\n",
       "  /* The background is the default theme color */\n",
       "  color: var(--sklearn-color-text-on-default-background);\n",
       "}\n",
       "\n",
       "/* On hover, darken the color of the background */\n",
       "#sk-container-id-1 div.sk-label:hover label.sk-toggleable__label {\n",
       "  color: var(--sklearn-color-text);\n",
       "  background-color: var(--sklearn-color-unfitted-level-2);\n",
       "}\n",
       "\n",
       "/* Label box, darken color on hover, fitted */\n",
       "#sk-container-id-1 div.sk-label.fitted:hover label.sk-toggleable__label.fitted {\n",
       "  color: var(--sklearn-color-text);\n",
       "  background-color: var(--sklearn-color-fitted-level-2);\n",
       "}\n",
       "\n",
       "/* Estimator label */\n",
       "\n",
       "#sk-container-id-1 div.sk-label label {\n",
       "  font-family: monospace;\n",
       "  font-weight: bold;\n",
       "  display: inline-block;\n",
       "  line-height: 1.2em;\n",
       "}\n",
       "\n",
       "#sk-container-id-1 div.sk-label-container {\n",
       "  text-align: center;\n",
       "}\n",
       "\n",
       "/* Estimator-specific */\n",
       "#sk-container-id-1 div.sk-estimator {\n",
       "  font-family: monospace;\n",
       "  border: 1px dotted var(--sklearn-color-border-box);\n",
       "  border-radius: 0.25em;\n",
       "  box-sizing: border-box;\n",
       "  margin-bottom: 0.5em;\n",
       "  /* unfitted */\n",
       "  background-color: var(--sklearn-color-unfitted-level-0);\n",
       "}\n",
       "\n",
       "#sk-container-id-1 div.sk-estimator.fitted {\n",
       "  /* fitted */\n",
       "  background-color: var(--sklearn-color-fitted-level-0);\n",
       "}\n",
       "\n",
       "/* on hover */\n",
       "#sk-container-id-1 div.sk-estimator:hover {\n",
       "  /* unfitted */\n",
       "  background-color: var(--sklearn-color-unfitted-level-2);\n",
       "}\n",
       "\n",
       "#sk-container-id-1 div.sk-estimator.fitted:hover {\n",
       "  /* fitted */\n",
       "  background-color: var(--sklearn-color-fitted-level-2);\n",
       "}\n",
       "\n",
       "/* Specification for estimator info (e.g. \"i\" and \"?\") */\n",
       "\n",
       "/* Common style for \"i\" and \"?\" */\n",
       "\n",
       ".sk-estimator-doc-link,\n",
       "a:link.sk-estimator-doc-link,\n",
       "a:visited.sk-estimator-doc-link {\n",
       "  float: right;\n",
       "  font-size: smaller;\n",
       "  line-height: 1em;\n",
       "  font-family: monospace;\n",
       "  background-color: var(--sklearn-color-background);\n",
       "  border-radius: 1em;\n",
       "  height: 1em;\n",
       "  width: 1em;\n",
       "  text-decoration: none !important;\n",
       "  margin-left: 0.5em;\n",
       "  text-align: center;\n",
       "  /* unfitted */\n",
       "  border: var(--sklearn-color-unfitted-level-1) 1pt solid;\n",
       "  color: var(--sklearn-color-unfitted-level-1);\n",
       "}\n",
       "\n",
       ".sk-estimator-doc-link.fitted,\n",
       "a:link.sk-estimator-doc-link.fitted,\n",
       "a:visited.sk-estimator-doc-link.fitted {\n",
       "  /* fitted */\n",
       "  border: var(--sklearn-color-fitted-level-1) 1pt solid;\n",
       "  color: var(--sklearn-color-fitted-level-1);\n",
       "}\n",
       "\n",
       "/* On hover */\n",
       "div.sk-estimator:hover .sk-estimator-doc-link:hover,\n",
       ".sk-estimator-doc-link:hover,\n",
       "div.sk-label-container:hover .sk-estimator-doc-link:hover,\n",
       ".sk-estimator-doc-link:hover {\n",
       "  /* unfitted */\n",
       "  background-color: var(--sklearn-color-unfitted-level-3);\n",
       "  color: var(--sklearn-color-background);\n",
       "  text-decoration: none;\n",
       "}\n",
       "\n",
       "div.sk-estimator.fitted:hover .sk-estimator-doc-link.fitted:hover,\n",
       ".sk-estimator-doc-link.fitted:hover,\n",
       "div.sk-label-container:hover .sk-estimator-doc-link.fitted:hover,\n",
       ".sk-estimator-doc-link.fitted:hover {\n",
       "  /* fitted */\n",
       "  background-color: var(--sklearn-color-fitted-level-3);\n",
       "  color: var(--sklearn-color-background);\n",
       "  text-decoration: none;\n",
       "}\n",
       "\n",
       "/* Span, style for the box shown on hovering the info icon */\n",
       ".sk-estimator-doc-link span {\n",
       "  display: none;\n",
       "  z-index: 9999;\n",
       "  position: relative;\n",
       "  font-weight: normal;\n",
       "  right: .2ex;\n",
       "  padding: .5ex;\n",
       "  margin: .5ex;\n",
       "  width: min-content;\n",
       "  min-width: 20ex;\n",
       "  max-width: 50ex;\n",
       "  color: var(--sklearn-color-text);\n",
       "  box-shadow: 2pt 2pt 4pt #999;\n",
       "  /* unfitted */\n",
       "  background: var(--sklearn-color-unfitted-level-0);\n",
       "  border: .5pt solid var(--sklearn-color-unfitted-level-3);\n",
       "}\n",
       "\n",
       ".sk-estimator-doc-link.fitted span {\n",
       "  /* fitted */\n",
       "  background: var(--sklearn-color-fitted-level-0);\n",
       "  border: var(--sklearn-color-fitted-level-3);\n",
       "}\n",
       "\n",
       ".sk-estimator-doc-link:hover span {\n",
       "  display: block;\n",
       "}\n",
       "\n",
       "/* \"?\"-specific style due to the `<a>` HTML tag */\n",
       "\n",
       "#sk-container-id-1 a.estimator_doc_link {\n",
       "  float: right;\n",
       "  font-size: 1rem;\n",
       "  line-height: 1em;\n",
       "  font-family: monospace;\n",
       "  background-color: var(--sklearn-color-background);\n",
       "  border-radius: 1rem;\n",
       "  height: 1rem;\n",
       "  width: 1rem;\n",
       "  text-decoration: none;\n",
       "  /* unfitted */\n",
       "  color: var(--sklearn-color-unfitted-level-1);\n",
       "  border: var(--sklearn-color-unfitted-level-1) 1pt solid;\n",
       "}\n",
       "\n",
       "#sk-container-id-1 a.estimator_doc_link.fitted {\n",
       "  /* fitted */\n",
       "  border: var(--sklearn-color-fitted-level-1) 1pt solid;\n",
       "  color: var(--sklearn-color-fitted-level-1);\n",
       "}\n",
       "\n",
       "/* On hover */\n",
       "#sk-container-id-1 a.estimator_doc_link:hover {\n",
       "  /* unfitted */\n",
       "  background-color: var(--sklearn-color-unfitted-level-3);\n",
       "  color: var(--sklearn-color-background);\n",
       "  text-decoration: none;\n",
       "}\n",
       "\n",
       "#sk-container-id-1 a.estimator_doc_link.fitted:hover {\n",
       "  /* fitted */\n",
       "  background-color: var(--sklearn-color-fitted-level-3);\n",
       "}\n",
       "</style><div id=\"sk-container-id-1\" class=\"sk-top-container\"><div class=\"sk-text-repr-fallback\"><pre>KNeighborsClassifier()</pre><b>In a Jupyter environment, please rerun this cell to show the HTML representation or trust the notebook. <br />On GitHub, the HTML representation is unable to render, please try loading this page with nbviewer.org.</b></div><div class=\"sk-container\" hidden><div class=\"sk-item\"><div class=\"sk-estimator fitted sk-toggleable\"><input class=\"sk-toggleable__control sk-hidden--visually\" id=\"sk-estimator-id-1\" type=\"checkbox\" checked><label for=\"sk-estimator-id-1\" class=\"sk-toggleable__label fitted sk-toggleable__label-arrow\"><div><div>KNeighborsClassifier</div></div><div><a class=\"sk-estimator-doc-link fitted\" rel=\"noreferrer\" target=\"_blank\" href=\"https://scikit-learn.org/1.6/modules/generated/sklearn.neighbors.KNeighborsClassifier.html\">?<span>Documentation for KNeighborsClassifier</span></a><span class=\"sk-estimator-doc-link fitted\">i<span>Fitted</span></span></div></label><div class=\"sk-toggleable__content fitted\"><pre>KNeighborsClassifier()</pre></div> </div></div></div></div>"
      ],
      "text/plain": [
       "KNeighborsClassifier()"
      ]
     },
     "execution_count": 20,
     "metadata": {},
     "output_type": "execute_result"
    }
   ],
   "source": [
    "# 4. Maintenant nous allons pouvoir utiliser KNN\n",
    "print(\"Entraînement du modèle KNN pour l'imputation...\")\n",
    "knn_imputer = KNeighborsClassifier(n_neighbors=5)\n",
    "knn_imputer.fit(features_incomplete.values, target_complete.values.ravel())"
   ]
  },
  {
   "cell_type": "code",
   "execution_count": 21,
   "metadata": {},
   "outputs": [
    {
     "name": "stderr",
     "output_type": "stream",
     "text": [
      "c:\\Users\\HP\\Documents\\dockerFom\\machinelearning\\lib\\site-packages\\sklearn\\utils\\validation.py:2732: UserWarning:\n",
      "\n",
      "X has feature names, but KNeighborsClassifier was fitted without feature names\n",
      "\n"
     ]
    }
   ],
   "source": [
    "#Prédiction des valeurs manquantes de la target\n",
    "predicted_values = knn_imputer.predict(features_incomplete)"
   ]
  },
  {
   "cell_type": "code",
   "execution_count": 22,
   "metadata": {},
   "outputs": [
    {
     "name": "stdout",
     "output_type": "stream",
     "text": [
      "✅ 0 valeurs prédites et réinjectées\n"
     ]
    }
   ],
   "source": [
    "# Réinjection des prédictions\n",
    "data_completed = data.copy()\n",
    "# On suppose que la colonne cible est 'fraude'\n",
    "target_column = 'fraude'\n",
    "# On suppose que les valeurs à prédire sont celles manquantes dans la colonne 'fraude'\n",
    "missing_mask = data_completed[target_column].isna()\n",
    "missing_count = missing_mask.sum()\n",
    "# On suppose que predicted_values contient autant de valeurs que de lignes manquantes\n",
    "data_completed.loc[missing_mask, target_column] = predicted_values\n",
    "\n",
    "print(f\"✅ {missing_count:,} valeurs prédites et réinjectées\")"
   ]
  },
  {
   "cell_type": "code",
   "execution_count": 23,
   "metadata": {},
   "outputs": [
    {
     "name": "stdout",
     "output_type": "stream",
     "text": [
      "\n",
      "📈 Distribution après imputation:\n",
      "Non-fraude (0): 937 (91.86%)\n",
      "Fraude (1): 45 (4.41%)\n"
     ]
    }
   ],
   "source": [
    " # Vérification de la distribution après imputation\n",
    "print(f\"\\n📈 Distribution après imputation:\")\n",
    "final_counts = data_completed[target_column].value_counts()\n",
    "final_pct = data_completed[target_column].value_counts(normalize=True) * 100\n",
    "print(f\"Non-fraude (0): {final_counts[0]:,} ({final_pct[0]:.2f}%)\")\n",
    "print(f\"Fraude (1): {final_counts[1]:,} ({final_pct[1]:.2f}%)\")"
   ]
  },
  {
   "cell_type": "markdown",
   "metadata": {},
   "source": [
    "6.2 Équilibrage des Classes avec SMOTE\n",
    "Application de SMOTE (Synthetic Minority Oversampling Technique) pour créer un dataset équilibré."
   ]
  },
  {
   "cell_type": "code",
   "execution_count": 24,
   "metadata": {},
   "outputs": [
    {
     "name": "stdout",
     "output_type": "stream",
     "text": [
      "\n",
      "🔄 Application de SMOTE...\n",
      "✅ Distribution après SMOTE:\n",
      "   Non-fraude (0): 975\n",
      "   Fraude (1): 975\n",
      "   Ratio: 1.0:1\n"
     ]
    }
   ],
   "source": [
    "# Séparation des features et de la cible\n",
    "X = data.drop(target_column, axis=1)\n",
    "y = data[target_column].astype(int)\n",
    "    \n",
    "# Application de SMOTE\n",
    "print(\"\\n🔄 Application de SMOTE...\")\n",
    "smote = SMOTE(random_state=42)\n",
    "X_resampled, y_resampled = smote.fit_resample(X, y)\n",
    "    \n",
    "# Création du nouveau DataFrame\n",
    "data_balanced = pd.DataFrame(X_resampled, columns=X.columns)\n",
    "data_balanced[target_column] = y_resampled\n",
    "    \n",
    "# État final\n",
    "final_counts = data_balanced[target_column].value_counts()\n",
    "final_ratio = final_counts[0] / final_counts[1]\n",
    "    \n",
    "print(f\"✅ Distribution après SMOTE:\")\n",
    "print(f\"   Non-fraude (0): {final_counts[0]:,}\")\n",
    "print(f\"   Fraude (1): {final_counts[1]:,}\")\n",
    "print(f\"   Ratio: {final_ratio:.1f}:1\")"
   ]
  },
  {
   "cell_type": "markdown",
   "metadata": {},
   "source": [
    "7. Traitement des Valeurs Aberrantes"
   ]
  },
  {
   "cell_type": "markdown",
   "metadata": {},
   "source": [
    "7.1 Détection et Traitement des Outliers\n",
    "Méthode IQR (Interquartile Range) pour identifier et traiter les valeurs aberrantes de manière conservative."
   ]
  },
  {
   "cell_type": "code",
   "execution_count": 25,
   "metadata": {},
   "outputs": [
    {
     "data": {
      "text/html": [
       "<div>\n",
       "<style scoped>\n",
       "    .dataframe tbody tr th:only-of-type {\n",
       "        vertical-align: middle;\n",
       "    }\n",
       "\n",
       "    .dataframe tbody tr th {\n",
       "        vertical-align: top;\n",
       "    }\n",
       "\n",
       "    .dataframe thead th {\n",
       "        text-align: right;\n",
       "    }\n",
       "</style>\n",
       "<table border=\"1\" class=\"dataframe\">\n",
       "  <thead>\n",
       "    <tr style=\"text-align: right;\">\n",
       "      <th></th>\n",
       "      <th>age</th>\n",
       "      <th>salaire</th>\n",
       "      <th>score_credit</th>\n",
       "      <th>montant_transaction</th>\n",
       "      <th>anciennete_compte</th>\n",
       "      <th>type_carte</th>\n",
       "      <th>region</th>\n",
       "      <th>genre</th>\n",
       "      <th>fraude</th>\n",
       "    </tr>\n",
       "  </thead>\n",
       "  <tbody>\n",
       "    <tr>\n",
       "      <th>0</th>\n",
       "      <td>49.548894</td>\n",
       "      <td>183659.045784</td>\n",
       "      <td>48.228579</td>\n",
       "      <td>9.649456e+06</td>\n",
       "      <td>14.000000</td>\n",
       "      <td>0.0</td>\n",
       "      <td>2.531017</td>\n",
       "      <td>0.0</td>\n",
       "      <td>0.0</td>\n",
       "    </tr>\n",
       "    <tr>\n",
       "      <th>1</th>\n",
       "      <td>44.952665</td>\n",
       "      <td>329732.599158</td>\n",
       "      <td>67.573097</td>\n",
       "      <td>2.500000e+04</td>\n",
       "      <td>9.655656</td>\n",
       "      <td>0.0</td>\n",
       "      <td>2.531017</td>\n",
       "      <td>0.0</td>\n",
       "      <td>0.0</td>\n",
       "    </tr>\n",
       "    <tr>\n",
       "      <th>2</th>\n",
       "      <td>41.659910</td>\n",
       "      <td>75000.000000</td>\n",
       "      <td>77.559487</td>\n",
       "      <td>2.724004e+06</td>\n",
       "      <td>9.000000</td>\n",
       "      <td>1.0</td>\n",
       "      <td>2.531017</td>\n",
       "      <td>1.0</td>\n",
       "      <td>0.0</td>\n",
       "    </tr>\n",
       "    <tr>\n",
       "      <th>3</th>\n",
       "      <td>42.377280</td>\n",
       "      <td>75000.000000</td>\n",
       "      <td>54.282220</td>\n",
       "      <td>4.755632e+06</td>\n",
       "      <td>9.000000</td>\n",
       "      <td>0.0</td>\n",
       "      <td>3.167702</td>\n",
       "      <td>0.0</td>\n",
       "      <td>0.0</td>\n",
       "    </tr>\n",
       "    <tr>\n",
       "      <th>4</th>\n",
       "      <td>48.125023</td>\n",
       "      <td>359999.482942</td>\n",
       "      <td>71.148546</td>\n",
       "      <td>2.500000e+04</td>\n",
       "      <td>8.000000</td>\n",
       "      <td>0.0</td>\n",
       "      <td>3.167702</td>\n",
       "      <td>0.0</td>\n",
       "      <td>0.0</td>\n",
       "    </tr>\n",
       "    <tr>\n",
       "      <th>...</th>\n",
       "      <td>...</td>\n",
       "      <td>...</td>\n",
       "      <td>...</td>\n",
       "      <td>...</td>\n",
       "      <td>...</td>\n",
       "      <td>...</td>\n",
       "      <td>...</td>\n",
       "      <td>...</td>\n",
       "      <td>...</td>\n",
       "    </tr>\n",
       "    <tr>\n",
       "      <th>1015</th>\n",
       "      <td>48.973513</td>\n",
       "      <td>262962.250877</td>\n",
       "      <td>52.367001</td>\n",
       "      <td>3.428887e+06</td>\n",
       "      <td>8.000000</td>\n",
       "      <td>1.0</td>\n",
       "      <td>3.167702</td>\n",
       "      <td>1.0</td>\n",
       "      <td>0.0</td>\n",
       "    </tr>\n",
       "    <tr>\n",
       "      <th>1016</th>\n",
       "      <td>42.298180</td>\n",
       "      <td>429413.188793</td>\n",
       "      <td>43.633980</td>\n",
       "      <td>3.255258e+06</td>\n",
       "      <td>2.000000</td>\n",
       "      <td>1.0</td>\n",
       "      <td>2.531017</td>\n",
       "      <td>1.0</td>\n",
       "      <td>0.0</td>\n",
       "    </tr>\n",
       "    <tr>\n",
       "      <th>1017</th>\n",
       "      <td>42.734031</td>\n",
       "      <td>531726.219363</td>\n",
       "      <td>37.934063</td>\n",
       "      <td>5.980733e+06</td>\n",
       "      <td>11.000000</td>\n",
       "      <td>0.0</td>\n",
       "      <td>2.531017</td>\n",
       "      <td>0.0</td>\n",
       "      <td>0.0</td>\n",
       "    </tr>\n",
       "    <tr>\n",
       "      <th>1018</th>\n",
       "      <td>44.454998</td>\n",
       "      <td>232283.191451</td>\n",
       "      <td>12.925355</td>\n",
       "      <td>5.094767e+06</td>\n",
       "      <td>12.000000</td>\n",
       "      <td>0.0</td>\n",
       "      <td>3.167702</td>\n",
       "      <td>1.0</td>\n",
       "      <td>0.0</td>\n",
       "    </tr>\n",
       "    <tr>\n",
       "      <th>1019</th>\n",
       "      <td>24.957693</td>\n",
       "      <td>391660.635767</td>\n",
       "      <td>89.375146</td>\n",
       "      <td>4.075352e+06</td>\n",
       "      <td>15.000000</td>\n",
       "      <td>1.0</td>\n",
       "      <td>3.167702</td>\n",
       "      <td>0.0</td>\n",
       "      <td>0.0</td>\n",
       "    </tr>\n",
       "  </tbody>\n",
       "</table>\n",
       "<p>1020 rows × 9 columns</p>\n",
       "</div>"
      ],
      "text/plain": [
       "            age        salaire  score_credit  montant_transaction  \\\n",
       "0     49.548894  183659.045784     48.228579         9.649456e+06   \n",
       "1     44.952665  329732.599158     67.573097         2.500000e+04   \n",
       "2     41.659910   75000.000000     77.559487         2.724004e+06   \n",
       "3     42.377280   75000.000000     54.282220         4.755632e+06   \n",
       "4     48.125023  359999.482942     71.148546         2.500000e+04   \n",
       "...         ...            ...           ...                  ...   \n",
       "1015  48.973513  262962.250877     52.367001         3.428887e+06   \n",
       "1016  42.298180  429413.188793     43.633980         3.255258e+06   \n",
       "1017  42.734031  531726.219363     37.934063         5.980733e+06   \n",
       "1018  44.454998  232283.191451     12.925355         5.094767e+06   \n",
       "1019  24.957693  391660.635767     89.375146         4.075352e+06   \n",
       "\n",
       "      anciennete_compte  type_carte    region  genre  fraude  \n",
       "0             14.000000         0.0  2.531017    0.0     0.0  \n",
       "1              9.655656         0.0  2.531017    0.0     0.0  \n",
       "2              9.000000         1.0  2.531017    1.0     0.0  \n",
       "3              9.000000         0.0  3.167702    0.0     0.0  \n",
       "4              8.000000         0.0  3.167702    0.0     0.0  \n",
       "...                 ...         ...       ...    ...     ...  \n",
       "1015           8.000000         1.0  3.167702    1.0     0.0  \n",
       "1016           2.000000         1.0  2.531017    1.0     0.0  \n",
       "1017          11.000000         0.0  2.531017    0.0     0.0  \n",
       "1018          12.000000         0.0  3.167702    1.0     0.0  \n",
       "1019          15.000000         1.0  3.167702    0.0     0.0  \n",
       "\n",
       "[1020 rows x 9 columns]"
      ]
     },
     "execution_count": 25,
     "metadata": {},
     "output_type": "execute_result"
    }
   ],
   "source": [
    "#1 - Traitements des valeurs aberrantes\n",
    "# Fonction pour detecter et remplacer les valeurs aberrantes avec les Bounds\n",
    "def detect_and_treat_outliers(data, method='iqr', factor=1.5):\n",
    "    for col in data.select_dtypes(include=[\"number\"]).columns:\n",
    "        Q1 = data[col].quantile(0.25)\n",
    "        Q3 = data[col].quantile(0.75)\n",
    "        IQR = Q3 - Q1\n",
    "        lower_bound = Q1 - factor * IQR\n",
    "        upper_bound = Q3 + factor * IQR\n",
    "        data[col] = np.where(data[col] < lower_bound, lower_bound, data[col])\n",
    "        data[col] = np.where(data[col] > upper_bound, upper_bound, data[col])\n",
    "    return data\n",
    "\n",
    "data = detect_and_treat_outliers(data)\n",
    "data"
   ]
  },
  {
   "cell_type": "code",
   "execution_count": 26,
   "metadata": {},
   "outputs": [],
   "source": [
    "\n",
    "data_balanced = detect_and_treat_outliers(data_balanced)\n",
    "# Conversion finale du type de la variable cible\n",
    "data_balanced['fraude'] = data_balanced['fraude'].astype(int)"
   ]
  },
  {
   "cell_type": "code",
   "execution_count": 27,
   "metadata": {},
   "outputs": [
    {
     "data": {
      "text/plain": [
       "array([[4.95488940e+01, 1.83659046e+05, 4.82285787e+01, ...,\n",
       "        0.00000000e+00, 2.53101737e+00, 0.00000000e+00],\n",
       "       [4.49526654e+01, 3.29732599e+05, 6.75730970e+01, ...,\n",
       "        0.00000000e+00, 2.53101737e+00, 0.00000000e+00],\n",
       "       [4.16599104e+01, 7.50000000e+04, 7.75594867e+01, ...,\n",
       "        1.00000000e+00, 2.53101737e+00, 1.00000000e+00],\n",
       "       ...,\n",
       "       [4.27340314e+01, 5.31726219e+05, 3.79340630e+01, ...,\n",
       "        0.00000000e+00, 2.53101737e+00, 0.00000000e+00],\n",
       "       [4.44549978e+01, 2.32283191e+05, 1.29253552e+01, ...,\n",
       "        0.00000000e+00, 3.16770186e+00, 1.00000000e+00],\n",
       "       [2.49576927e+01, 3.91660636e+05, 8.93751462e+01, ...,\n",
       "        1.00000000e+00, 3.16770186e+00, 0.00000000e+00]])"
      ]
     },
     "execution_count": 27,
     "metadata": {},
     "output_type": "execute_result"
    }
   ],
   "source": [
    "X = data.drop([\"fraude\"],axis=1).values\n",
    "X"
   ]
  },
  {
   "cell_type": "code",
   "execution_count": 28,
   "metadata": {},
   "outputs": [
    {
     "data": {
      "text/plain": [
       "array([[0.],\n",
       "       [0.],\n",
       "       [0.],\n",
       "       ...,\n",
       "       [0.],\n",
       "       [0.],\n",
       "       [0.]])"
      ]
     },
     "execution_count": 28,
     "metadata": {},
     "output_type": "execute_result"
    }
   ],
   "source": [
    "y = data[[\"fraude\"]].values\n",
    "y"
   ]
  },
  {
   "cell_type": "markdown",
   "metadata": {},
   "source": [
    "8. Préparation pour la Modélisation"
   ]
  },
  {
   "cell_type": "markdown",
   "metadata": {},
   "source": [
    "8.1 Séparation des Features et de la Cible\n",
    "Préparation des données pour l'entraînement des modèles de machine learning."
   ]
  },
  {
   "cell_type": "code",
   "execution_count": 29,
   "metadata": {},
   "outputs": [
    {
     "name": "stdout",
     "output_type": "stream",
     "text": [
      "📊 Dimensions des données:\n",
      "   Features (X): (1950, 8)\n",
      "   Target (y): (1950,)\n",
      "   Distribution de y: [975 975]\n",
      "\n",
      " Division train/test (test_size=0.25)...\n",
      "✅ Jeux de données créés:\n",
      "   Training: 1,462 observations\n",
      "   Test: 488 observations\n",
      "\n",
      " Normalisation des features...\n",
      "✅ Normalisation appliquée:\n",
      "   Moyenne des features (train): -0.000\n",
      "   Écart-type des features (train): 1.000\n"
     ]
    }
   ],
   "source": [
    "def prepare_modeling_data(df, target_column='fraude', test_size=0.25, random_state=42):\n",
    "    \n",
    "    \n",
    "    # Séparation features/target\n",
    "    X = df.drop([target_column], axis=1).values\n",
    "    y = df[target_column].values\n",
    "    \n",
    "    print(f\"📊 Dimensions des données:\")\n",
    "    print(f\"   Features (X): {X.shape}\")\n",
    "    print(f\"   Target (y): {y.shape}\")\n",
    "    print(f\"   Distribution de y: {np.bincount(y)}\")\n",
    "    \n",
    "    # Division train/test avec stratification\n",
    "    print(f\"\\n Division train/test (test_size={test_size})...\")\n",
    "    X_train, X_test, y_train, y_test = train_test_split(\n",
    "        X, y, \n",
    "        test_size=test_size, \n",
    "        random_state=random_state, \n",
    "        stratify=y\n",
    "    )\n",
    "    \n",
    "    print(f\"✅ Jeux de données créés:\")\n",
    "    print(f\"   Training: {X_train.shape[0]:,} observations\")\n",
    "    print(f\"   Test: {X_test.shape[0]:,} observations\")\n",
    "    \n",
    "    # Normalisation des features\n",
    "    print(f\"\\n Normalisation des features...\")\n",
    "    scaler = StandardScaler()\n",
    "    X_train_scaled = scaler.fit_transform(X_train)\n",
    "    X_test_scaled = scaler.transform(X_test)\n",
    "    \n",
    "    print(f\"✅ Normalisation appliquée:\")\n",
    "    print(f\"   Moyenne des features (train): {X_train_scaled.mean():.3f}\")\n",
    "    print(f\"   Écart-type des features (train): {X_train_scaled.std():.3f}\")\n",
    "    \n",
    "    return X_train_scaled, X_test_scaled, y_train, y_test, scaler\n",
    "\n",
    "# Préparation des données pour la modélisation\n",
    "X_train, X_test, y_train, y_test, feature_scaler = prepare_modeling_data(data_balanced)"
   ]
  },
  {
   "cell_type": "markdown",
   "metadata": {},
   "source": [
    "9. Entraînement et Évaluation des Modèles"
   ]
  },
  {
   "cell_type": "markdown",
   "metadata": {},
   "source": [
    "9.1 Configuration des Modèles\n",
    "Définition d'une suite de modèles de machine learning avec leurs paramètres par défaut."
   ]
  },
  {
   "cell_type": "code",
   "execution_count": 30,
   "metadata": {},
   "outputs": [],
   "source": [
    "#nous avons decider de choisir 4 models et le meilleurs sera utiliser\n",
    "models = [\n",
    "    LogisticRegression(),\n",
    "    RandomForestClassifier(),\n",
    "    GradientBoostingClassifier(),\n",
    "    KNeighborsClassifier(),\n",
    "]"
   ]
  },
  {
   "cell_type": "code",
   "execution_count": 31,
   "metadata": {},
   "outputs": [],
   "source": [
    "model_names = [ \"Gradient Boosting\", \"Random Forest\", \"Logistic Regression\", \"KNeighborsClassifier\",]\n",
    "\n",
    "train_results = []\n",
    "test_results = []"
   ]
  },
  {
   "cell_type": "markdown",
   "metadata": {},
   "source": [
    "9.2 Fonction d'Évaluation Complète\n",
    "Évaluation systématique des modèles avec métriques complètes et visualisations."
   ]
  },
  {
   "cell_type": "code",
   "execution_count": 32,
   "metadata": {},
   "outputs": [
    {
     "name": "stdout",
     "output_type": "stream",
     "text": [
      "***LogisticRegression()****\n",
      "\n",
      "**** TRAINING ****\n",
      "\n",
      "🔄 Entraînement en cours...\n",
      "\n",
      "📊 PERFORMANCE SUR LE JEU D'ENTRAÎNEMENT\n",
      "--------------------------------------------------\n",
      "🎯 Accuracy: 0.6471 (64.71%)\n",
      "\n",
      "📋 Rapport de classification:\n",
      "              precision    recall  f1-score   support\n",
      "\n",
      "  Non-Fraude       0.66      0.60      0.63       731\n",
      "      Fraude       0.63      0.70      0.66       731\n",
      "\n",
      "    accuracy                           0.65      1462\n",
      "   macro avg       0.65      0.65      0.65      1462\n",
      "weighted avg       0.65      0.65      0.65      1462\n",
      "\n",
      "\n",
      "🔄 Validation croisée (10 plis)...\n",
      "📈 Scores CV: Moyenne = 0.6464 (±0.0829)\n",
      "📊 Détail des scores: [0.6259 0.5986 0.6918 0.6712 0.7055 0.5685 0.6849 0.6233 0.637  0.6575]\n",
      "\n",
      "📊 PERFORMANCE SUR LE JEU DE TEST\n",
      "--------------------------------------------------\n",
      "🎯 Accuracy: 0.6291 (62.91%)\n",
      "\n",
      "📋 Rapport de classification:\n",
      "              precision    recall  f1-score   support\n",
      "\n",
      "  Non-Fraude       0.64      0.58      0.61       244\n",
      "      Fraude       0.62      0.68      0.65       244\n",
      "\n",
      "    accuracy                           0.63       488\n",
      "   macro avg       0.63      0.63      0.63       488\n",
      "weighted avg       0.63      0.63      0.63       488\n",
      "\n"
     ]
    },
    {
     "data": {
      "image/png": "[encoded data removed]",
      "text/plain": [
       "<Figure size 1500x500 with 5 Axes>"
      ]
     },
     "metadata": {},
     "output_type": "display_data"
    },
    {
     "name": "stdout",
     "output_type": "stream",
     "text": [
      "\n",
      "🔄 Validation croisée sur le test (10 plis)...\n",
      "📈 Scores CV Test: Moyenne = 0.6045 (±0.1993)\n"
     ]
    },
    {
     "data": {
      "text/plain": [
       "<Figure size 800x600 with 0 Axes>"
      ]
     },
     "metadata": {},
     "output_type": "display_data"
    },
    {
     "data": {
      "image/png": "[encoded data removed]",
      "text/plain": [
       "<Figure size 800x550 with 1 Axes>"
      ]
     },
     "metadata": {},
     "output_type": "display_data"
    },
    {
     "name": "stdout",
     "output_type": "stream",
     "text": [
      "***RandomForestClassifier()****\n",
      "\n",
      "**** TRAINING ****\n",
      "\n",
      "🔄 Entraînement en cours...\n",
      "\n",
      "📊 PERFORMANCE SUR LE JEU D'ENTRAÎNEMENT\n",
      "--------------------------------------------------\n",
      "🎯 Accuracy: 1.0000 (100.00%)\n",
      "\n",
      "📋 Rapport de classification:\n",
      "              precision    recall  f1-score   support\n",
      "\n",
      "  Non-Fraude       1.00      1.00      1.00       731\n",
      "      Fraude       1.00      1.00      1.00       731\n",
      "\n",
      "    accuracy                           1.00      1462\n",
      "   macro avg       1.00      1.00      1.00      1462\n",
      "weighted avg       1.00      1.00      1.00      1462\n",
      "\n",
      "\n",
      "🔄 Validation croisée (10 plis)...\n",
      "📈 Scores CV: Moyenne = 0.9610 (±0.0345)\n",
      "📊 Détail des scores: [0.9524 0.932  0.9863 0.9863 0.9521 0.9452 0.9658 0.9589 0.9795 0.9521]\n",
      "\n",
      "📊 PERFORMANCE SUR LE JEU DE TEST\n",
      "--------------------------------------------------\n",
      "🎯 Accuracy: 0.9693 (96.93%)\n",
      "\n",
      "📋 Rapport de classification:\n",
      "              precision    recall  f1-score   support\n",
      "\n",
      "  Non-Fraude       0.98      0.96      0.97       244\n",
      "      Fraude       0.96      0.98      0.97       244\n",
      "\n",
      "    accuracy                           0.97       488\n",
      "   macro avg       0.97      0.97      0.97       488\n",
      "weighted avg       0.97      0.97      0.97       488\n",
      "\n"
     ]
    },
    {
     "data": {
      "image/png": "[encoded data removed]",
      "text/plain": [
       "<Figure size 1500x500 with 5 Axes>"
      ]
     },
     "metadata": {},
     "output_type": "display_data"
    },
    {
     "name": "stdout",
     "output_type": "stream",
     "text": [
      "\n",
      "🔄 Validation croisée sur le test (10 plis)...\n",
      "📈 Scores CV Test: Moyenne = 0.9099 (±0.1310)\n"
     ]
    },
    {
     "data": {
      "text/plain": [
       "<Figure size 800x600 with 0 Axes>"
      ]
     },
     "metadata": {},
     "output_type": "display_data"
    },
    {
     "data": {
      "image/png": "[encoded data removed]",
      "text/plain": [
       "<Figure size 800x550 with 1 Axes>"
      ]
     },
     "metadata": {},
     "output_type": "display_data"
    },
    {
     "name": "stdout",
     "output_type": "stream",
     "text": [
      "***GradientBoostingClassifier()****\n",
      "\n",
      "**** TRAINING ****\n",
      "\n",
      "🔄 Entraînement en cours...\n",
      "\n",
      "📊 PERFORMANCE SUR LE JEU D'ENTRAÎNEMENT\n",
      "--------------------------------------------------\n",
      "🎯 Accuracy: 0.9665 (96.65%)\n",
      "\n",
      "📋 Rapport de classification:\n",
      "              precision    recall  f1-score   support\n",
      "\n",
      "  Non-Fraude       0.95      0.98      0.97       731\n",
      "      Fraude       0.98      0.95      0.97       731\n",
      "\n",
      "    accuracy                           0.97      1462\n",
      "   macro avg       0.97      0.97      0.97      1462\n",
      "weighted avg       0.97      0.97      0.97      1462\n",
      "\n",
      "\n",
      "🔄 Validation croisée (10 plis)...\n",
      "📈 Scores CV: Moyenne = 0.9282 (±0.0493)\n",
      "📊 Détail des scores: [0.8912 0.932  0.9795 0.9521 0.9384 0.9384 0.9178 0.9247 0.9041 0.9041]\n",
      "\n",
      "📊 PERFORMANCE SUR LE JEU DE TEST\n",
      "--------------------------------------------------\n",
      "🎯 Accuracy: 0.9385 (93.85%)\n",
      "\n",
      "📋 Rapport de classification:\n",
      "              precision    recall  f1-score   support\n",
      "\n",
      "  Non-Fraude       0.95      0.93      0.94       244\n",
      "      Fraude       0.93      0.95      0.94       244\n",
      "\n",
      "    accuracy                           0.94       488\n",
      "   macro avg       0.94      0.94      0.94       488\n",
      "weighted avg       0.94      0.94      0.94       488\n",
      "\n"
     ]
    },
    {
     "data": {
      "image/png": "[encoded data removed]",
      "text/plain": [
       "<Figure size 1500x500 with 5 Axes>"
      ]
     },
     "metadata": {},
     "output_type": "display_data"
    },
    {
     "name": "stdout",
     "output_type": "stream",
     "text": [
      "\n",
      "🔄 Validation croisée sur le test (10 plis)...\n",
      "📈 Scores CV Test: Moyenne = 0.8977 (±0.1475)\n"
     ]
    },
    {
     "data": {
      "text/plain": [
       "<Figure size 800x600 with 0 Axes>"
      ]
     },
     "metadata": {},
     "output_type": "display_data"
    },
    {
     "data": {
      "image/png": "[encoded data removed]",
      "text/plain": [
       "<Figure size 800x550 with 1 Axes>"
      ]
     },
     "metadata": {},
     "output_type": "display_data"
    },
    {
     "name": "stdout",
     "output_type": "stream",
     "text": [
      "***KNeighborsClassifier()****\n",
      "\n",
      "**** TRAINING ****\n",
      "\n",
      "🔄 Entraînement en cours...\n",
      "\n",
      "📊 PERFORMANCE SUR LE JEU D'ENTRAÎNEMENT\n",
      "--------------------------------------------------\n",
      "🎯 Accuracy: 0.8659 (86.59%)\n",
      "\n",
      "📋 Rapport de classification:\n",
      "              precision    recall  f1-score   support\n",
      "\n",
      "  Non-Fraude       0.98      0.75      0.85       731\n",
      "      Fraude       0.79      0.99      0.88       731\n",
      "\n",
      "    accuracy                           0.87      1462\n",
      "   macro avg       0.89      0.87      0.86      1462\n",
      "weighted avg       0.89      0.87      0.86      1462\n",
      "\n",
      "\n",
      "🔄 Validation croisée (10 plis)...\n",
      "📈 Scores CV: Moyenne = 0.7907 (±0.0665)\n",
      "📊 Détail des scores: [0.8095 0.8299 0.8014 0.7945 0.8493 0.7466 0.7808 0.7329 0.7808 0.7808]\n",
      "\n",
      "📊 PERFORMANCE SUR LE JEU DE TEST\n",
      "--------------------------------------------------\n",
      "🎯 Accuracy: 0.8115 (81.15%)\n",
      "\n",
      "📋 Rapport de classification:\n",
      "              precision    recall  f1-score   support\n",
      "\n",
      "  Non-Fraude       0.97      0.64      0.77       244\n",
      "      Fraude       0.73      0.98      0.84       244\n",
      "\n",
      "    accuracy                           0.81       488\n",
      "   macro avg       0.85      0.81      0.81       488\n",
      "weighted avg       0.85      0.81      0.81       488\n",
      "\n"
     ]
    },
    {
     "data": {
      "image/png": "[encoded data removed]",
      "text/plain": [
       "<Figure size 1500x500 with 5 Axes>"
      ]
     },
     "metadata": {},
     "output_type": "display_data"
    },
    {
     "name": "stdout",
     "output_type": "stream",
     "text": [
      "\n",
      "🔄 Validation croisée sur le test (10 plis)...\n",
      "📈 Scores CV Test: Moyenne = 0.6988 (±0.0880)\n"
     ]
    },
    {
     "data": {
      "text/plain": [
       "<Figure size 800x600 with 0 Axes>"
      ]
     },
     "metadata": {},
     "output_type": "display_data"
    },
    {
     "data": {
      "image/png": "[encoded data removed]",
      "text/plain": [
       "<Figure size 800x550 with 1 Axes>"
      ]
     },
     "metadata": {},
     "output_type": "display_data"
    }
   ],
   "source": [
    "def evaluate_model_comprehensive(model, model_name, X_train, X_test, y_train, y_test, cv_folds=10):\n",
    "\n",
    "    # Entraînement du modèle\n",
    "    print(f\"***{model}****\\n\")\n",
    "    print(\"**** TRAINING ****\\n\")\n",
    "    print(\"🔄 Entraînement en cours...\")\n",
    "    model.fit(X_train, y_train)\n",
    "    \n",
    "    # === ÉVALUATION SUR LE JEU D'ENTRAÎNEMENT ===\n",
    "    print(f\"\\n📊 PERFORMANCE SUR LE JEU D'ENTRAÎNEMENT\")\n",
    "    print(\"-\" * 50)\n",
    "    \n",
    "    y_train_pred = model.predict(X_train)\n",
    "    train_accuracy = accuracy_score(y_train, y_train_pred)\n",
    "    \n",
    "    print(f\"🎯 Accuracy: {train_accuracy:.4f} ({train_accuracy*100:.2f}%)\")\n",
    "    print(f\"\\n📋 Rapport de classification:\")\n",
    "    print(classification_report(y_train, y_train_pred, target_names=['Non-Fraude', 'Fraude']))\n",
    "    \n",
    "    # Matrice de confusion - Training\n",
    "    plt.figure(figsize=(15, 5))\n",
    "    \n",
    "    plt.subplot(1, 3, 1)\n",
    "    cm_train = confusion_matrix(y_train, y_train_pred)\n",
    "    sns.heatmap(cm_train, annot=True, fmt='d', cmap='Blues', \n",
    "                xticklabels=['Non-Fraude', 'Fraude'],\n",
    "                yticklabels=['Non-Fraude', 'Fraude'])\n",
    "    plt.title(f'Matrice de Confusion - Training\\n{model_name}')\n",
    "    plt.ylabel('Valeurs Réelles')\n",
    "    plt.xlabel('Prédictions')\n",
    "    \n",
    "    # Validation croisée\n",
    "    print(f\"\\n🔄 Validation croisée ({cv_folds} plis)...\")\n",
    "    cv_scores = cross_val_score(model, X_train, y_train, cv=cv_folds, scoring='accuracy')\n",
    "    print(f\"📈 Scores CV: Moyenne = {cv_scores.mean():.4f} (±{cv_scores.std()*2:.4f})\")\n",
    "    print(f\"📊 Détail des scores: {cv_scores.round(4)}\")\n",
    "    \n",
    "    # Courbe ROC - Training\n",
    "    from sklearn.metrics import RocCurveDisplay \n",
    "    plt.subplot(1, 3, 2)\n",
    "    RocCurveDisplay.from_estimator(model, X_train, y_train, ax=plt.gca())\n",
    "    plt.title(f'Courbe ROC - Training\\n{model_name}')\n",
    "    plt.grid(True, alpha=0.3)\n",
    "    \n",
    "    # === ÉVALUATION SUR LE JEU DE TEST ===\n",
    "    print(f\"\\n📊 PERFORMANCE SUR LE JEU DE TEST\")\n",
    "    print(\"-\" * 50)\n",
    "    \n",
    "    y_test_pred = model.predict(X_test)\n",
    "    test_accuracy = accuracy_score(y_test, y_test_pred)\n",
    "    \n",
    "    print(f\"🎯 Accuracy: {test_accuracy:.4f} ({test_accuracy*100:.2f}%)\")\n",
    "    print(f\"\\n📋 Rapport de classification:\")\n",
    "    print(classification_report(y_test, y_test_pred, target_names=['Non-Fraude', 'Fraude']))\n",
    "    \n",
    "    # Matrice de confusion - Test\n",
    "    plt.subplot(1, 3, 3)\n",
    "    cm_test = confusion_matrix(y_test, y_test_pred)\n",
    "    sns.heatmap(cm_test, annot=True, fmt='d', cmap='Blues',\n",
    "                xticklabels=['Non-Fraude', 'Fraude'],\n",
    "                yticklabels=['Non-Fraude', 'Fraude'])\n",
    "    plt.title(f'Matrice de Confusion - Test\\n{model_name}')\n",
    "    plt.ylabel('Valeurs Réelles')\n",
    "    plt.xlabel('Prédictions')\n",
    "    \n",
    "    plt.tight_layout()\n",
    "    plt.show()\n",
    "    \n",
    "    # Validation croisée sur le test\n",
    "    print(f\"\\n🔄 Validation croisée sur le test ({cv_folds} plis)...\")\n",
    "    cv_test_scores = cross_val_score(model, X_test, y_test, cv=cv_folds, scoring='accuracy')\n",
    "    print(f\"📈 Scores CV Test: Moyenne = {cv_test_scores.mean():.4f} (±{cv_test_scores.std()*2:.4f})\")\n",
    "    \n",
    "    # Courbe ROC - Test\n",
    "    plt.figure(figsize=(8, 6))\n",
    "    RocCurveDisplay.from_estimator(model, X_test, y_test)\n",
    "    plt.title(f'Courbe ROC - Test\\n{model_name}')\n",
    "    plt.grid(True, alpha=0.3)\n",
    "    plt.show()\n",
    "    \n",
    "    # Calcul de métriques additionnelles\n",
    "    train_precision = precision_score(y_train, y_train_pred)\n",
    "    train_recall = recall_score(y_train, y_train_pred)\n",
    "    train_f1 = f1_score(y_train, y_train_pred)\n",
    "    \n",
    "    test_precision = precision_score(y_test, y_test_pred)\n",
    "    test_recall = recall_score(y_test, y_test_pred)\n",
    "    test_f1 = f1_score(y_test, y_test_pred)\n",
    "    \n",
    "    # Compilation des résultats\n",
    "    results = {\n",
    "        'model_name': model_name,\n",
    "        'train_accuracy': train_accuracy,\n",
    "        'test_accuracy': test_accuracy,\n",
    "        'train_precision': train_precision,\n",
    "        'test_precision': test_precision,\n",
    "        'train_recall': train_recall,\n",
    "        'test_recall': test_recall,\n",
    "        'train_f1': train_f1,\n",
    "        'test_f1': test_f1,\n",
    "        'cv_mean': cv_scores.mean(),\n",
    "        'cv_std': cv_scores.std(),\n",
    "        'cv_test_mean': cv_test_scores.mean(),\n",
    "        'cv_test_std': cv_test_scores.std()\n",
    "    }\n",
    "    \n",
    "    return results\n",
    "\n",
    "# Évaluation de tous les modèles\n",
    "all_results = []\n",
    "for model, name in zip(models, model_names):\n",
    "    result = evaluate_model_comprehensive(model, name, X_train, X_test, y_train, y_test)\n",
    "    all_results.append(result)"
   ]
  },
  {
   "cell_type": "markdown",
   "metadata": {},
   "source": [
    "9.3 Comparaison des Performances\n",
    "Tableau comparatif des performances de tous les modèles testés."
   ]
  },
  {
   "cell_type": "code",
   "execution_count": 33,
   "metadata": {},
   "outputs": [
    {
     "name": "stdout",
     "output_type": "stream",
     "text": [
      "\n",
      "================================================================================\n",
      "📊 COMPARAISON DES PERFORMANCES\n",
      "================================================================================\n",
      "              Modèle  Acc. Train  Acc. Test  Précision  Rappel  F1-Score  CV Moyen\n",
      "   Gradient Boosting      0.6471     0.6291     0.6180  0.6762    0.6458    0.6045\n",
      "       Random Forest      1.0000     0.9693     0.9636  0.9754    0.9695    0.9099\n",
      " Logistic Regression      0.9665     0.9385     0.9280  0.9508    0.9393    0.8977\n",
      "KNeighborsClassifier      0.8659     0.8115     0.7331  0.9795    0.8386    0.6988\n",
      "\n",
      " MEILLEUR MODÈLE: Random Forest\n",
      "    Accuracy Test: 0.9693\n",
      "    F1-Score: 0.9695\n",
      "    CV Moyen: 0.9099\n"
     ]
    }
   ],
   "source": [
    "def create_performance_comparison(results_list):\n",
    "    print(\"\\n\" + \"=\"*80)\n",
    "    print(\"📊 COMPARAISON DES PERFORMANCES\")\n",
    "    print(\"=\"*80)\n",
    "    \n",
    "    # Création du DataFrame de comparaison\n",
    "    comparison_df = pd.DataFrame(results_list)\n",
    "    \n",
    "    # Sélection des métriques clés\n",
    "    metrics_to_display = [\n",
    "        'model_name', 'train_accuracy', 'test_accuracy', \n",
    "        'test_precision', 'test_recall', 'test_f1', 'cv_test_mean'\n",
    "    ]\n",
    "    \n",
    "    display_df = comparison_df[metrics_to_display].copy()\n",
    "    \n",
    "    # Formatage pour l'affichage\n",
    "    for col in display_df.columns:\n",
    "        if col != 'model_name':\n",
    "            display_df[col] = display_df[col].round(4)\n",
    "    \n",
    "    # Renommage des colonnes pour l'affichage\n",
    "    display_df.columns = [\n",
    "        'Modèle', 'Acc. Train', 'Acc. Test', \n",
    "        'Précision', 'Rappel', 'F1-Score', 'CV Moyen'\n",
    "    ]\n",
    "    \n",
    "    print(display_df.to_string(index=False))\n",
    "    \n",
    "    # Identification du meilleur modèle\n",
    "    best_model_idx = comparison_df['test_accuracy'].idxmax()\n",
    "    best_model = comparison_df.iloc[best_model_idx]\n",
    "    \n",
    "    print(f\"\\n MEILLEUR MODÈLE: {best_model['model_name']}\")\n",
    "    print(f\"    Accuracy Test: {best_model['test_accuracy']:.4f}\")\n",
    "    print(f\"    F1-Score: {best_model['test_f1']:.4f}\")\n",
    "    print(f\"    CV Moyen: {best_model['cv_test_mean']:.4f}\")\n",
    "    \n",
    "    return display_df, best_model\n",
    "\n",
    "# Création du tableau de comparaison\n",
    "performance_table, best_performing_model = create_performance_comparison(all_results)"
   ]
  },
  {
   "cell_type": "markdown",
   "metadata": {},
   "source": [
    "10. Optimisation du Meilleur Modèle (Random Forest)"
   ]
  },
  {
   "cell_type": "markdown",
   "metadata": {},
   "source": [
    "10.1 Grid Search pour l'Optimisation des Hyperparamètres\n",
    "Recherche systématique des meilleurs hyperparamètres pour le Random Forest."
   ]
  },
  {
   "cell_type": "code",
   "execution_count": 34,
   "metadata": {},
   "outputs": [
    {
     "name": "stdout",
     "output_type": "stream",
     "text": [
      " Configuration de la recherche:\n",
      "   Paramètres à tester: 5 catégories\n",
      "   - n_estimators: 3 valeurs [100, 200, 250]\n",
      "    Total des combinaisons: 3\n",
      "    Validation croisée: 5 plis\n",
      "      Temps estimé: ~2 secondes\n",
      "\n",
      " Lancement de la recherche...\n",
      "Fitting 5 folds for each of 96 candidates, totalling 480 fits\n",
      "\n",
      "✅ Optimisation terminée!\n",
      " Meilleur score CV: 0.9637\n",
      " Meilleurs paramètres:\n",
      "   - bootstrap: False\n",
      "   - max_depth: 20\n",
      "   - min_samples_leaf: 1\n",
      "   - min_samples_split: 2\n",
      "   - n_estimators: 200\n"
     ]
    }
   ],
   "source": [
    "def optimize_random_forest(X_train, y_train, cv_folds=5):\n",
    " # Définition de la grille de paramètres\n",
    "  param_grid = {\n",
    "     'n_estimators': [100, 200, 250],\n",
    "     'max_depth': [None, 10, 20, 25],\n",
    "     'min_samples_split': [2, 5],\n",
    "     'min_samples_leaf': [1, 2],\n",
    "     'bootstrap': [True, False]\n",
    "    }\n",
    "    \n",
    "  print(f\" Configuration de la recherche:\")\n",
    "  print(f\"   Paramètres à tester: {len(param_grid)} catégories\")\n",
    "  total_combinations = 1\n",
    "  for key, values in param_grid.items():\n",
    "    total_combinations *= len(values)\n",
    "    print(f\"   - {key}: {len(values)} valeurs {values}\")\n",
    "    print(f\"    Total des combinaisons: {total_combinations}\")\n",
    "    print(f\"    Validation croisée: {cv_folds} plis\")\n",
    "    print(f\"      Temps estimé: ~{total_combinations * cv_folds * 0.1:.0f} secondes\")\n",
    "    \n",
    "    # Initialisation du modèle de base\n",
    "    rf_base = RandomForestClassifier(random_state=42)\n",
    "    \n",
    "    # Configuration de Grid Search\n",
    "    grid_search = GridSearchCV(\n",
    "        estimator=rf_base,\n",
    "        param_grid=param_grid,\n",
    "        cv=cv_folds,\n",
    "        scoring='accuracy',\n",
    "        n_jobs=-1,\n",
    "        verbose=2,\n",
    "        return_train_score=True\n",
    "    )\n",
    "    \n",
    "    print(f\"\\n Lancement de la recherche...\")\n",
    "    grid_search.fit(X_train, y_train)\n",
    "\n",
    "     # Récupération des résultats\n",
    "    best_model = grid_search.best_estimator_\n",
    "    best_params = grid_search.best_params_\n",
    "    best_score = grid_search.best_score_\n",
    "    \n",
    "    print(f\"\\n✅ Optimisation terminée!\")\n",
    "    print(f\" Meilleur score CV: {best_score:.4f}\")\n",
    "    print(f\" Meilleurs paramètres:\")\n",
    "    for param, value in best_params.items():\n",
    "        print(f\"   - {param}: {value}\")\n",
    "    \n",
    "    return best_model, best_params, grid_search\n",
    "\n",
    "# Lancement de l'optimisation\n",
    "optimized_rf, best_hyperparams, grid_results = optimize_random_forest(X_train, y_train)"
   ]
  },
  {
   "cell_type": "code",
   "execution_count": 79,
   "metadata": {},
   "outputs": [
    {
     "name": "stdout",
     "output_type": "stream",
     "text": [
      "              precision    recall  f1-score   support\n",
      "\n",
      "           0       0.98      0.95      0.97       244\n",
      "           1       0.95      0.98      0.97       244\n",
      "\n",
      "    accuracy                           0.97       488\n",
      "   macro avg       0.97      0.97      0.97       488\n",
      "weighted avg       0.97      0.97      0.97       488\n",
      "\n"
     ]
    }
   ],
   "source": [
    "#passons a la Prédictions sur le set de test\n",
    "y_pred = optimized_rf.predict(X_test)\n",
    "print(classification_report(y_test, y_pred))"
   ]
  },
  {
   "cell_type": "code",
   "execution_count": null,
   "metadata": {},
   "outputs": [
    {
     "data": {
      "text/html": [
       "<style>#sk-container-id-3 {\n",
       "  /* Definition of color scheme common for light and dark mode */\n",
       "  --sklearn-color-text: #000;\n",
       "  --sklearn-color-text-muted: #666;\n",
       "  --sklearn-color-line: gray;\n",
       "  /* Definition of color scheme for unfitted estimators */\n",
       "  --sklearn-color-unfitted-level-0: #fff5e6;\n",
       "  --sklearn-color-unfitted-level-1: #f6e4d2;\n",
       "  --sklearn-color-unfitted-level-2: #ffe0b3;\n",
       "  --sklearn-color-unfitted-level-3: chocolate;\n",
       "  /* Definition of color scheme for fitted estimators */\n",
       "  --sklearn-color-fitted-level-0: #f0f8ff;\n",
       "  --sklearn-color-fitted-level-1: #d4ebff;\n",
       "  --sklearn-color-fitted-level-2: #b3dbfd;\n",
       "  --sklearn-color-fitted-level-3: cornflowerblue;\n",
       "\n",
       "  /* Specific color for light theme */\n",
       "  --sklearn-color-text-on-default-background: var(--sg-text-color, var(--theme-code-foreground, var(--jp-content-font-color1, black)));\n",
       "  --sklearn-color-background: var(--sg-background-color, var(--theme-background, var(--jp-layout-color0, white)));\n",
       "  --sklearn-color-border-box: var(--sg-text-color, var(--theme-code-foreground, var(--jp-content-font-color1, black)));\n",
       "  --sklearn-color-icon: #696969;\n",
       "\n",
       "  @media (prefers-color-scheme: dark) {\n",
       "    /* Redefinition of color scheme for dark theme */\n",
       "    --sklearn-color-text-on-default-background: var(--sg-text-color, var(--theme-code-foreground, var(--jp-content-font-color1, white)));\n",
       "    --sklearn-color-background: var(--sg-background-color, var(--theme-background, var(--jp-layout-color0, #111)));\n",
       "    --sklearn-color-border-box: var(--sg-text-color, var(--theme-code-foreground, var(--jp-content-font-color1, white)));\n",
       "    --sklearn-color-icon: #878787;\n",
       "  }\n",
       "}\n",
       "\n",
       "#sk-container-id-3 {\n",
       "  color: var(--sklearn-color-text);\n",
       "}\n",
       "\n",
       "#sk-container-id-3 pre {\n",
       "  padding: 0;\n",
       "}\n",
       "\n",
       "#sk-container-id-3 input.sk-hidden--visually {\n",
       "  border: 0;\n",
       "  clip: rect(1px 1px 1px 1px);\n",
       "  clip: rect(1px, 1px, 1px, 1px);\n",
       "  height: 1px;\n",
       "  margin: -1px;\n",
       "  overflow: hidden;\n",
       "  padding: 0;\n",
       "  position: absolute;\n",
       "  width: 1px;\n",
       "}\n",
       "\n",
       "#sk-container-id-3 div.sk-dashed-wrapped {\n",
       "  border: 1px dashed var(--sklearn-color-line);\n",
       "  margin: 0 0.4em 0.5em 0.4em;\n",
       "  box-sizing: border-box;\n",
       "  padding-bottom: 0.4em;\n",
       "  background-color: var(--sklearn-color-background);\n",
       "}\n",
       "\n",
       "#sk-container-id-3 div.sk-container {\n",
       "  /* jupyter's `normalize.less` sets `[hidden] { display: none; }`\n",
       "     but bootstrap.min.css set `[hidden] { display: none !important; }`\n",
       "     so we also need the `!important` here to be able to override the\n",
       "     default hidden behavior on the sphinx rendered scikit-learn.org.\n",
       "     See: https://github.com/scikit-learn/scikit-learn/issues/21755 */\n",
       "  display: inline-block !important;\n",
       "  position: relative;\n",
       "}\n",
       "\n",
       "#sk-container-id-3 div.sk-text-repr-fallback {\n",
       "  display: none;\n",
       "}\n",
       "\n",
       "div.sk-parallel-item,\n",
       "div.sk-serial,\n",
       "div.sk-item {\n",
       "  /* draw centered vertical line to link estimators */\n",
       "  background-image: linear-gradient(var(--sklearn-color-text-on-default-background), var(--sklearn-color-text-on-default-background));\n",
       "  background-size: 2px 100%;\n",
       "  background-repeat: no-repeat;\n",
       "  background-position: center center;\n",
       "}\n",
       "\n",
       "/* Parallel-specific style estimator block */\n",
       "\n",
       "#sk-container-id-3 div.sk-parallel-item::after {\n",
       "  content: \"\";\n",
       "  width: 100%;\n",
       "  border-bottom: 2px solid var(--sklearn-color-text-on-default-background);\n",
       "  flex-grow: 1;\n",
       "}\n",
       "\n",
       "#sk-container-id-3 div.sk-parallel {\n",
       "  display: flex;\n",
       "  align-items: stretch;\n",
       "  justify-content: center;\n",
       "  background-color: var(--sklearn-color-background);\n",
       "  position: relative;\n",
       "}\n",
       "\n",
       "#sk-container-id-3 div.sk-parallel-item {\n",
       "  display: flex;\n",
       "  flex-direction: column;\n",
       "}\n",
       "\n",
       "#sk-container-id-3 div.sk-parallel-item:first-child::after {\n",
       "  align-self: flex-end;\n",
       "  width: 50%;\n",
       "}\n",
       "\n",
       "#sk-container-id-3 div.sk-parallel-item:last-child::after {\n",
       "  align-self: flex-start;\n",
       "  width: 50%;\n",
       "}\n",
       "\n",
       "#sk-container-id-3 div.sk-parallel-item:only-child::after {\n",
       "  width: 0;\n",
       "}\n",
       "\n",
       "/* Serial-specific style estimator block */\n",
       "\n",
       "#sk-container-id-3 div.sk-serial {\n",
       "  display: flex;\n",
       "  flex-direction: column;\n",
       "  align-items: center;\n",
       "  background-color: var(--sklearn-color-background);\n",
       "  padding-right: 1em;\n",
       "  padding-left: 1em;\n",
       "}\n",
       "\n",
       "\n",
       "/* Toggleable style: style used for estimator/Pipeline/ColumnTransformer box that is\n",
       "clickable and can be expanded/collapsed.\n",
       "- Pipeline and ColumnTransformer use this feature and define the default style\n",
       "- Estimators will overwrite some part of the style using the `sk-estimator` class\n",
       "*/\n",
       "\n",
       "/* Pipeline and ColumnTransformer style (default) */\n",
       "\n",
       "#sk-container-id-3 div.sk-toggleable {\n",
       "  /* Default theme specific background. It is overwritten whether we have a\n",
       "  specific estimator or a Pipeline/ColumnTransformer */\n",
       "  background-color: var(--sklearn-color-background);\n",
       "}\n",
       "\n",
       "/* Toggleable label */\n",
       "#sk-container-id-3 label.sk-toggleable__label {\n",
       "  cursor: pointer;\n",
       "  display: flex;\n",
       "  width: 100%;\n",
       "  margin-bottom: 0;\n",
       "  padding: 0.5em;\n",
       "  box-sizing: border-box;\n",
       "  text-align: center;\n",
       "  align-items: start;\n",
       "  justify-content: space-between;\n",
       "  gap: 0.5em;\n",
       "}\n",
       "\n",
       "#sk-container-id-3 label.sk-toggleable__label .caption {\n",
       "  font-size: 0.6rem;\n",
       "  font-weight: lighter;\n",
       "  color: var(--sklearn-color-text-muted);\n",
       "}\n",
       "\n",
       "#sk-container-id-3 label.sk-toggleable__label-arrow:before {\n",
       "  /* Arrow on the left of the label */\n",
       "  content: \"▸\";\n",
       "  float: left;\n",
       "  margin-right: 0.25em;\n",
       "  color: var(--sklearn-color-icon);\n",
       "}\n",
       "\n",
       "#sk-container-id-3 label.sk-toggleable__label-arrow:hover:before {\n",
       "  color: var(--sklearn-color-text);\n",
       "}\n",
       "\n",
       "/* Toggleable content - dropdown */\n",
       "\n",
       "#sk-container-id-3 div.sk-toggleable__content {\n",
       "  max-height: 0;\n",
       "  max-width: 0;\n",
       "  overflow: hidden;\n",
       "  text-align: left;\n",
       "  /* unfitted */\n",
       "  background-color: var(--sklearn-color-unfitted-level-0);\n",
       "}\n",
       "\n",
       "#sk-container-id-3 div.sk-toggleable__content.fitted {\n",
       "  /* fitted */\n",
       "  background-color: var(--sklearn-color-fitted-level-0);\n",
       "}\n",
       "\n",
       "#sk-container-id-3 div.sk-toggleable__content pre {\n",
       "  margin: 0.2em;\n",
       "  border-radius: 0.25em;\n",
       "  color: var(--sklearn-color-text);\n",
       "  /* unfitted */\n",
       "  background-color: var(--sklearn-color-unfitted-level-0);\n",
       "}\n",
       "\n",
       "#sk-container-id-3 div.sk-toggleable__content.fitted pre {\n",
       "  /* unfitted */\n",
       "  background-color: var(--sklearn-color-fitted-level-0);\n",
       "}\n",
       "\n",
       "#sk-container-id-3 input.sk-toggleable__control:checked~div.sk-toggleable__content {\n",
       "  /* Expand drop-down */\n",
       "  max-height: 200px;\n",
       "  max-width: 100%;\n",
       "  overflow: auto;\n",
       "}\n",
       "\n",
       "#sk-container-id-3 input.sk-toggleable__control:checked~label.sk-toggleable__label-arrow:before {\n",
       "  content: \"▾\";\n",
       "}\n",
       "\n",
       "/* Pipeline/ColumnTransformer-specific style */\n",
       "\n",
       "#sk-container-id-3 div.sk-label input.sk-toggleable__control:checked~label.sk-toggleable__label {\n",
       "  color: var(--sklearn-color-text);\n",
       "  background-color: var(--sklearn-color-unfitted-level-2);\n",
       "}\n",
       "\n",
       "#sk-container-id-3 div.sk-label.fitted input.sk-toggleable__control:checked~label.sk-toggleable__label {\n",
       "  background-color: var(--sklearn-color-fitted-level-2);\n",
       "}\n",
       "\n",
       "/* Estimator-specific style */\n",
       "\n",
       "/* Colorize estimator box */\n",
       "#sk-container-id-3 div.sk-estimator input.sk-toggleable__control:checked~label.sk-toggleable__label {\n",
       "  /* unfitted */\n",
       "  background-color: var(--sklearn-color-unfitted-level-2);\n",
       "}\n",
       "\n",
       "#sk-container-id-3 div.sk-estimator.fitted input.sk-toggleable__control:checked~label.sk-toggleable__label {\n",
       "  /* fitted */\n",
       "  background-color: var(--sklearn-color-fitted-level-2);\n",
       "}\n",
       "\n",
       "#sk-container-id-3 div.sk-label label.sk-toggleable__label,\n",
       "#sk-container-id-3 div.sk-label label {\n",
       "  /* The background is the default theme color */\n",
       "  color: var(--sklearn-color-text-on-default-background);\n",
       "}\n",
       "\n",
       "/* On hover, darken the color of the background */\n",
       "#sk-container-id-3 div.sk-label:hover label.sk-toggleable__label {\n",
       "  color: var(--sklearn-color-text);\n",
       "  background-color: var(--sklearn-color-unfitted-level-2);\n",
       "}\n",
       "\n",
       "/* Label box, darken color on hover, fitted */\n",
       "#sk-container-id-3 div.sk-label.fitted:hover label.sk-toggleable__label.fitted {\n",
       "  color: var(--sklearn-color-text);\n",
       "  background-color: var(--sklearn-color-fitted-level-2);\n",
       "}\n",
       "\n",
       "/* Estimator label */\n",
       "\n",
       "#sk-container-id-3 div.sk-label label {\n",
       "  font-family: monospace;\n",
       "  font-weight: bold;\n",
       "  display: inline-block;\n",
       "  line-height: 1.2em;\n",
       "}\n",
       "\n",
       "#sk-container-id-3 div.sk-label-container {\n",
       "  text-align: center;\n",
       "}\n",
       "\n",
       "/* Estimator-specific */\n",
       "#sk-container-id-3 div.sk-estimator {\n",
       "  font-family: monospace;\n",
       "  border: 1px dotted var(--sklearn-color-border-box);\n",
       "  border-radius: 0.25em;\n",
       "  box-sizing: border-box;\n",
       "  margin-bottom: 0.5em;\n",
       "  /* unfitted */\n",
       "  background-color: var(--sklearn-color-unfitted-level-0);\n",
       "}\n",
       "\n",
       "#sk-container-id-3 div.sk-estimator.fitted {\n",
       "  /* fitted */\n",
       "  background-color: var(--sklearn-color-fitted-level-0);\n",
       "}\n",
       "\n",
       "/* on hover */\n",
       "#sk-container-id-3 div.sk-estimator:hover {\n",
       "  /* unfitted */\n",
       "  background-color: var(--sklearn-color-unfitted-level-2);\n",
       "}\n",
       "\n",
       "#sk-container-id-3 div.sk-estimator.fitted:hover {\n",
       "  /* fitted */\n",
       "  background-color: var(--sklearn-color-fitted-level-2);\n",
       "}\n",
       "\n",
       "/* Specification for estimator info (e.g. \"i\" and \"?\") */\n",
       "\n",
       "/* Common style for \"i\" and \"?\" */\n",
       "\n",
       ".sk-estimator-doc-link,\n",
       "a:link.sk-estimator-doc-link,\n",
       "a:visited.sk-estimator-doc-link {\n",
       "  float: right;\n",
       "  font-size: smaller;\n",
       "  line-height: 1em;\n",
       "  font-family: monospace;\n",
       "  background-color: var(--sklearn-color-background);\n",
       "  border-radius: 1em;\n",
       "  height: 1em;\n",
       "  width: 1em;\n",
       "  text-decoration: none !important;\n",
       "  margin-left: 0.5em;\n",
       "  text-align: center;\n",
       "  /* unfitted */\n",
       "  border: var(--sklearn-color-unfitted-level-1) 1pt solid;\n",
       "  color: var(--sklearn-color-unfitted-level-1);\n",
       "}\n",
       "\n",
       ".sk-estimator-doc-link.fitted,\n",
       "a:link.sk-estimator-doc-link.fitted,\n",
       "a:visited.sk-estimator-doc-link.fitted {\n",
       "  /* fitted */\n",
       "  border: var(--sklearn-color-fitted-level-1) 1pt solid;\n",
       "  color: var(--sklearn-color-fitted-level-1);\n",
       "}\n",
       "\n",
       "/* On hover */\n",
       "div.sk-estimator:hover .sk-estimator-doc-link:hover,\n",
       ".sk-estimator-doc-link:hover,\n",
       "div.sk-label-container:hover .sk-estimator-doc-link:hover,\n",
       ".sk-estimator-doc-link:hover {\n",
       "  /* unfitted */\n",
       "  background-color: var(--sklearn-color-unfitted-level-3);\n",
       "  color: var(--sklearn-color-background);\n",
       "  text-decoration: none;\n",
       "}\n",
       "\n",
       "div.sk-estimator.fitted:hover .sk-estimator-doc-link.fitted:hover,\n",
       ".sk-estimator-doc-link.fitted:hover,\n",
       "div.sk-label-container:hover .sk-estimator-doc-link.fitted:hover,\n",
       ".sk-estimator-doc-link.fitted:hover {\n",
       "  /* fitted */\n",
       "  background-color: var(--sklearn-color-fitted-level-3);\n",
       "  color: var(--sklearn-color-background);\n",
       "  text-decoration: none;\n",
       "}\n",
       "\n",
       "/* Span, style for the box shown on hovering the info icon */\n",
       ".sk-estimator-doc-link span {\n",
       "  display: none;\n",
       "  z-index: 9999;\n",
       "  position: relative;\n",
       "  font-weight: normal;\n",
       "  right: .2ex;\n",
       "  padding: .5ex;\n",
       "  margin: .5ex;\n",
       "  width: min-content;\n",
       "  min-width: 20ex;\n",
       "  max-width: 50ex;\n",
       "  color: var(--sklearn-color-text);\n",
       "  box-shadow: 2pt 2pt 4pt #999;\n",
       "  /* unfitted */\n",
       "  background: var(--sklearn-color-unfitted-level-0);\n",
       "  border: .5pt solid var(--sklearn-color-unfitted-level-3);\n",
       "}\n",
       "\n",
       ".sk-estimator-doc-link.fitted span {\n",
       "  /* fitted */\n",
       "  background: var(--sklearn-color-fitted-level-0);\n",
       "  border: var(--sklearn-color-fitted-level-3);\n",
       "}\n",
       "\n",
       ".sk-estimator-doc-link:hover span {\n",
       "  display: block;\n",
       "}\n",
       "\n",
       "/* \"?\"-specific style due to the `<a>` HTML tag */\n",
       "\n",
       "#sk-container-id-3 a.estimator_doc_link {\n",
       "  float: right;\n",
       "  font-size: 1rem;\n",
       "  line-height: 1em;\n",
       "  font-family: monospace;\n",
       "  background-color: var(--sklearn-color-background);\n",
       "  border-radius: 1rem;\n",
       "  height: 1rem;\n",
       "  width: 1rem;\n",
       "  text-decoration: none;\n",
       "  /* unfitted */\n",
       "  color: var(--sklearn-color-unfitted-level-1);\n",
       "  border: var(--sklearn-color-unfitted-level-1) 1pt solid;\n",
       "}\n",
       "\n",
       "#sk-container-id-3 a.estimator_doc_link.fitted {\n",
       "  /* fitted */\n",
       "  border: var(--sklearn-color-fitted-level-1) 1pt solid;\n",
       "  color: var(--sklearn-color-fitted-level-1);\n",
       "}\n",
       "\n",
       "/* On hover */\n",
       "#sk-container-id-3 a.estimator_doc_link:hover {\n",
       "  /* unfitted */\n",
       "  background-color: var(--sklearn-color-unfitted-level-3);\n",
       "  color: var(--sklearn-color-background);\n",
       "  text-decoration: none;\n",
       "}\n",
       "\n",
       "#sk-container-id-3 a.estimator_doc_link.fitted:hover {\n",
       "  /* fitted */\n",
       "  background-color: var(--sklearn-color-fitted-level-3);\n",
       "}\n",
       "</style><div id=\"sk-container-id-3\" class=\"sk-top-container\"><div class=\"sk-text-repr-fallback\"><pre>RandomForestClassifier(bootstrap=False, max_depth=20, n_estimators=200,\n",
       "                       random_state=42)</pre><b>In a Jupyter environment, please rerun this cell to show the HTML representation or trust the notebook. <br />On GitHub, the HTML representation is unable to render, please try loading this page with nbviewer.org.</b></div><div class=\"sk-container\" hidden><div class=\"sk-item\"><div class=\"sk-estimator fitted sk-toggleable\"><input class=\"sk-toggleable__control sk-hidden--visually\" id=\"sk-estimator-id-3\" type=\"checkbox\" checked><label for=\"sk-estimator-id-3\" class=\"sk-toggleable__label fitted sk-toggleable__label-arrow\"><div><div>RandomForestClassifier</div></div><div><a class=\"sk-estimator-doc-link fitted\" rel=\"noreferrer\" target=\"_blank\" href=\"https://scikit-learn.org/1.6/modules/generated/sklearn.ensemble.RandomForestClassifier.html\">?<span>Documentation for RandomForestClassifier</span></a><span class=\"sk-estimator-doc-link fitted\">i<span>Fitted</span></span></div></label><div class=\"sk-toggleable__content fitted\"><pre>RandomForestClassifier(bootstrap=False, max_depth=20, n_estimators=200,\n",
       "                       random_state=42)</pre></div> </div></div></div></div>"
      ],
      "text/plain": [
       "RandomForestClassifier(bootstrap=False, max_depth=20, n_estimators=200,\n",
       "                       random_state=42)"
      ]
     },
     "execution_count": 73,
     "metadata": {},
     "output_type": "execute_result"
    }
   ],
   "source": [
    "#maintenant nous allons redefinir notre random forest sur des hyperparametre\n",
    "best_params = {'bootstrap': False, 'max_depth': 20, 'min_samples_leaf': 1, 'min_samples_split': 2, 'n_estimators': 200}\n",
    "\n",
    "rf = RandomForestClassifier(random_state=42, **best_params) \n",
    "rf.fit(X_train, y_train)"
   ]
  },
  {
   "cell_type": "code",
   "execution_count": 81,
   "metadata": {},
   "outputs": [
    {
     "name": "stdout",
     "output_type": "stream",
     "text": [
      "classification\n",
      "               precision    recall  f1-score   support\n",
      "\n",
      "           0       1.00      1.00      1.00       731\n",
      "           1       1.00      1.00      1.00       731\n",
      "\n",
      "    accuracy                           1.00      1462\n",
      "   macro avg       1.00      1.00      1.00      1462\n",
      "weighted avg       1.00      1.00      1.00      1462\n",
      " \n"
     ]
    }
   ],
   "source": [
    "#derniere verification pour train et test\n",
    "#train\n",
    "\n",
    "y_train_predict = rf.predict(X_train)\n",
    "train_accuracy = accuracy_score(y_train, y_train_predict)\n",
    "train_accuracy\n",
    "print(f\"classification\\n {classification_report(y_train, y_train_predict)} \")"
   ]
  },
  {
   "cell_type": "code",
   "execution_count": 55,
   "metadata": {},
   "outputs": [
    {
     "name": "stdout",
     "output_type": "stream",
     "text": [
      "\n",
      "🔄 Validation croisée train (20 plis):\n",
      "Cross Val Accuracy [0.98648649 0.95945946 0.93150685 0.91780822 0.95890411 1.\n",
      " 0.98630137 1.         0.97260274 0.94520548 0.93150685 0.95890411\n",
      " 0.97260274 0.95890411 0.95890411 0.95890411 0.97260274 0.98630137\n",
      " 0.94520548 0.93150685]\n"
     ]
    }
   ],
   "source": [
    "print(f\"\\n🔄 Validation croisée train (20 plis):\")\n",
    "cv_scores = cross_val_score(estimator=rf, X=X_train, y=y_train, cv=20, scoring='accuracy')\n",
    "print(\"Cross Val Accuracy\", (cv_scores))"
   ]
  },
  {
   "cell_type": "code",
   "execution_count": 92,
   "metadata": {},
   "outputs": [
    {
     "name": "stdout",
     "output_type": "stream",
     "text": [
      "classification\n",
      "               precision    recall  f1-score   support\n",
      "\n",
      "           0       0.98      0.95      0.97       244\n",
      "           1       0.95      0.98      0.97       244\n",
      "\n",
      "    accuracy                           0.97       488\n",
      "   macro avg       0.97      0.97      0.97       488\n",
      "weighted avg       0.97      0.97      0.97       488\n",
      " \n"
     ]
    }
   ],
   "source": [
    "#test\n",
    "y_test_pred = rf.predict(X_test)\n",
    "print(f\"classification\\n {classification_report(y_test, y_test_pred)} \")"
   ]
  },
  {
   "cell_type": "code",
   "execution_count": 94,
   "metadata": {},
   "outputs": [
    {
     "name": "stdout",
     "output_type": "stream",
     "text": [
      "\n",
      "🔄 Validation croisée test (20 plis):\n",
      "Cross Val Accuracy [1.         0.96       0.84       0.72       0.92       0.84\n",
      " 0.88       0.92       0.875      1.         0.875      0.875\n",
      " 0.95833333 0.91666667 0.95833333 1.         1.         0.91666667\n",
      " 0.83333333 0.91666667]\n"
     ]
    }
   ],
   "source": [
    "# Validation croisée sur le test\n",
    "print(f\"\\n🔄 Validation croisée test (20 plis):\")\n",
    "cv_test_scores = cross_val_score(estimator=rf, X=X_test, y=y_test, cv=20, scoring='accuracy')\n",
    "print(\"Cross Val Accuracy\", (cv_test_scores))"
   ]
  },
  {
   "cell_type": "code",
   "execution_count": 95,
   "metadata": {},
   "outputs": [
    {
     "data": {
      "text/plain": [
       "<sklearn.metrics._plot.roc_curve.RocCurveDisplay at 0x285ef3fa9e0>"
      ]
     },
     "execution_count": 95,
     "metadata": {},
     "output_type": "execute_result"
    },
    {
     "data": {
      "image/png": "[encoded data removed]",
      "text/plain": [
       "<Figure size 800x550 with 1 Axes>"
      ]
     },
     "metadata": {},
     "output_type": "display_data"
    }
   ],
   "source": [
    "from sklearn.metrics import RocCurveDisplay\n",
    "# les courbes AUC et le SCORE_IC pour train\n",
    "RocCurveDisplay.from_estimator(rf, X_train,y_train)"
   ]
  },
  {
   "cell_type": "code",
   "execution_count": 98,
   "metadata": {},
   "outputs": [],
   "source": [
    "#sauvegarde du modèle\n",
    "pickle.dump(rf, open('random_forest_model.pkl', 'wb'))\n"
   ]
  },
  {
   "cell_type": "markdown",
   "metadata": {},
   "source": [
    "CE QUI TERMINE NOTRE NOTEBOOK.\n",
    "                                   MERCI :)"
   ]
  }
 ],
 "metadata": {
  "kernelspec": {
   "display_name": "machinelearning",
   "language": "python",
   "name": "python3"
  },
  "language_info": {
   "codemirror_mode": {
    "name": "ipython",
    "version": 3
   },
   "file_extension": ".py",
   "mimetype": "text/x-python",
   "name": "python",
   "nbconvert_exporter": "python",
   "pygments_lexer": "ipython3",
   "version": "3.10.11"
  }
 },
 "nbformat": 4,
 "nbformat_minor": 2
}
